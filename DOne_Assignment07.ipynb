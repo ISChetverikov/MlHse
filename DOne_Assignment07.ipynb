{
 "cells": [
  {
   "cell_type": "markdown",
   "metadata": {},
   "source": [
    "## Задание 07"
   ]
  },
  {
   "cell_type": "markdown",
   "metadata": {},
   "source": [
    "### Задача 1. Смещение константного алгоритма (2 балла)\n",
    "Пусть $x \\in R^d$, и значение каждого признака на объекте $x$ независимо генерируется из равномерного распределения $x_i\\in U[0,1],i=1,2\\dots,d$. Будем считать, что объекты в выборке независимы, а $\\mathbb{E}[y|x]=x^Tx.$ Найдите смещение константного алгоритма, полученного минимизацией среднеквадратичной ошибки на обучающей выборке. "
   ]
  },
  {
   "cell_type": "markdown",
   "metadata": {
    "collapsed": true
   },
   "source": [
    "Константа наилучшим образом приближающая по среднеквадратичной ошибке для данной выборки:\n",
    "\n",
    "$$С = \\int_x x^Txp(x)$$\n",
    "$$p(x) = 1$$\n",
    "$$\\mathbf{E}_{X} \\mu(X) = \\mathbf{E}_{X}[С(X)] = \\int_{x} xx^Tp(x)dx=\\frac{d}{3}$$\n",
    "\n",
    "$$bias = \\mathbf{E}_{x}[\\mathbf{E}_{X}[С(X)]-E[y|x]]^2 = \\mathbf{E}_{x} (\\frac{d}{3}-xx^T)dxdy = \n",
    "\\int_x(\\frac{d}{3}-xx^T) = \\frac{d^2}{9}-\\frac{2d}{3} \\int_x xx^T dx + \\int_x d^2x^4 dx = \\frac{4d^2}{45}$$\n"
   ]
  },
  {
   "cell_type": "markdown",
   "metadata": {},
   "source": [
    "### Задача 2. Разложение ошибки (2 балла)\n",
    "Истинная зависимость имеет вид $y_i = 3x^2_i+ u_i$, где $y_i$ - прогнозируемая переменная, $x_i$-признак и $u_i$ - случайная составляющая. Величины $x_i$ независимы и равновероятно принимаю значения $0, 1, 2$. Величины $u_i$ независимы и равновероятно принимают значения $−1$ и $1$.\n",
    "Исследователь Анатолий оценивает модель линейной регрессии $y_i = wx_i$, минимизируя среднеквадратичную ошибку.\n",
    "Разложите ожидание квадрата ошибки прогноза на шум, смещение и разброс."
   ]
  },
  {
   "cell_type": "markdown",
   "metadata": {
    "collapsed": true
   },
   "source": [
    "Для линейной регрессии при минимизации средней ошибки коэффициент $w=\\frac{\\sum_{i} x_iy_i}{\\sum_{i} x_i^2}$\n",
    "\n",
    "шум $$\\mathbf{E}_{x, y} [y-E[y|x]]^2 = \\mathbf{E}_{x}(3x^2+u-3x^2)^2 = \\mathbf{E}_{x}(u^2) = 1 $$\n",
    "\n",
    "смещение \n",
    "$$ \\mathbf{E}_{x}[\\mathbf{E}_{X}[\\mu(X)](x)-E[y|x]]^2 $$\n",
    "$$ \\mathbf{E}_{X}[\\mu(X)] = \\mathbf{E}_{X} \\frac{\\sum_{i} x_iy_i}{\\sum_{i} x_i^2} = \\mathbf{E}_{X} \\frac{\\sum_{i} x_i (3x_i^2+u)}{\\sum_{i} x_i^2} = \\mathbf{E}_{X} \\frac{\\sum_{i} 3x_i^3}{\\sum_{i} x_i^2} = \\mathbf{E}_{X} 3x_i = 3 $$\n",
    "$$ \\mathbf{E}_{x}[\\mathbf{E}_{X}[\\mu(X)](x)-E[y|x]]^2 = \\mathbf{E}_{x} (3x-3x^2)^2 = 12 $$\n",
    "\n",
    "разброс\n",
    "$$ \\mathbf{E}_{x}[\\mathbf{E}_{X}([\\mu(X)](x)-\\mathbf{E}_{X}[\\mu(X)(x)])^2] = \n",
    "\\mathbf{E}_{x} x^2 \\mathbf{E}_{X} (\\frac{\\sum_{i} x_iy_i}{\\sum_{i} x_i^2} - 3)^2 \n",
    "= \\frac{5}{3} \\mathbf{E}_{X} (3x_i - 3) ^2 = \\frac{5}{3} * 6 = 10\n",
    "$$"
   ]
  },
  {
   "cell_type": "markdown",
   "metadata": {},
   "source": [
    "### Задача 3. Взвешенное голосование (2 балла)\n",
    "Рассмотрим задачу бинарной классификации, пусть у нас есть три алгоритма $b_1(x), b_2(x)$ и $b_3(x)$, каждый из которых ошибается с вероятностью $p$. Мы строим композицию взвешенным голосованием: алгоритмам присвоены значимости $w_1, w_2$ и $w_3$, и для вынесения вердикта суммируются значимости алгоритмов, проголосовавших за каждый из классов:\n",
    "$$\n",
    "a_0=\\sum_{i=1}^3w_i[b_i(x)=0], $$\n",
    "$$\n",
    "a_1=\\sum_{i=1}^3w_i[b_i(x)=1]. \\\\\n",
    "$$\n",
    "Объект $x$ относится к классу, для которого сумма оказалась максимальной. Например, если первые два алгоритма голосуют за класс $0$, а третий за класс $1$, то выбирается класс $0$, если $w_1+w_2>w_3$, и класс $1$ в противном случае. Какова вероятность ошибки такой композиции этих трех алгоритмов, если:\n",
    "\n",
    "* $w_1=0.3, w_2=0.4, w_3=0.3$;\n",
    "* $w_1=0.2, w_2=0.5, w_3=0.2$?\n"
   ]
  },
  {
   "cell_type": "markdown",
   "metadata": {
    "collapsed": true
   },
   "source": [
    "В первом случае композиция алгоритмов ошибочна, если ошибочны 2 из 3 алгоритма или все три:\n",
    "$$p^{'}=3p*p*(1-p)+p*p*p=3p^2-2p^3$$\n",
    "Во втором случае ошибка полностью определяется вторым алгоритмом, так как ответ композиции равно ответу второго:\n",
    "$$p^{'}=p$$"
   ]
  },
  {
   "cell_type": "markdown",
   "metadata": {},
   "source": [
    "### Задача 4. Разложение ошибки с помощью бутстрапа "
   ]
  },
  {
   "cell_type": "markdown",
   "metadata": {},
   "source": [
    "В этом задании вам предстоит воспользоваться возможностями bootstraping для оценки смещения и разброса алгоритмов машинного обучения. Делать мы это будем на данных boston:"
   ]
  },
  {
   "cell_type": "code",
   "execution_count": 7,
   "metadata": {},
   "outputs": [],
   "source": [
    "import numpy as np\n",
    "import pandas as pd\n",
    "from matplotlib import pyplot as plt\n",
    "%matplotlib inline"
   ]
  },
  {
   "cell_type": "code",
   "execution_count": 149,
   "metadata": {},
   "outputs": [],
   "source": [
    "from sklearn.datasets import load_boston\n",
    "from sklearn.linear_model import LinearRegression\n",
    "from sklearn.ensemble import RandomForestRegressor\n",
    "from sklearn.tree import DecisionTreeRegressor\n",
    "from sklearn.utils import resample\n",
    "from sklearn.metrics import mean_squared_error "
   ]
  },
  {
   "cell_type": "code",
   "execution_count": 150,
   "metadata": {},
   "outputs": [
    {
     "data": {
      "text/plain": [
       "((506, 13), (506,))"
      ]
     },
     "execution_count": 150,
     "metadata": {},
     "output_type": "execute_result"
    }
   ],
   "source": [
    "boston = load_boston()\n",
    "X = boston[\"data\"]\n",
    "y = boston[\"target\"]\n",
    "X.shape, y.shape"
   ]
  },
  {
   "cell_type": "markdown",
   "metadata": {},
   "source": [
    "#### Алгоритм оценки смещения и разброса алгоритма $a$\n",
    "\n",
    "1. Сгенерировать $s$ выборок $X_j$ методом бутстрапа.\n",
    "\n",
    "2. На каждой выборке $X_j$ обучить алгоритм $a_j$.\n",
    "\n",
    "3. Для каждой выборки $X_j$ определить множество объектов $T_j$, не вошедших в нее (out-of-bag). Вычислить предсказания алгоритма $a_j$ на объектах $T_j$.\n",
    "\n",
    "Поскольку у нас есть только один ответ для каждого объекта, мы будем считать шум равным 0, а $\\mathbb{E}[y|x]$ равным имеющемуся правильному ответу для объекта $x$.\n",
    "\n",
    "#### Итоговые оценки:\n",
    "\n",
    "* #### Смещение: \n",
    "для одного объекта - квадрат разности среднего предсказания и правильного ответа. Среднее предсказание берется только по тем алгоритмам $a_j$, для которых этот объект входил в out-of-bag выборку $T_j$. Для получения общего смещения выполнить усреденение смещений по объектам.\n",
    "* #### Разброс: \n",
    "для одного объекта - выборочная дисперсия предсказаний алгоритмов $a_j$, для которых этот объект входил в out-of-bag выборку $T_j$. Для получения общего разброса выполнить усреденение разбросов по объектам.\n",
    "* #### Ошибка $L$:\n",
    "усреднить квадраты разностей предсказания и правильного ответа по всем выполненным предсказаниям для всех объектов.\n",
    "\n",
    "В результате должно получиться, что ошибка приблизительно равна сумме смещения и разброса!"
   ]
  },
  {
   "cell_type": "markdown",
   "metadata": {},
   "source": [
    "* реализуйте описанный алгоритм. Обратите внимание, что если объект не вошел ни в одну из out-of-bag выборок, учитывать его в вычислении итоговых величин не нужно. (3 балла) \n",
    "\n",
    "* Оцените смещение, разброс и ошибку для трех алгоритмов с гиперпараметрами по умолчанию: линейная регрессия, решающее дерево, случайный лес.\n",
    "\n",
    "* Проанализируйте полученный результат. Согласуются ли полученные результаты с теми, что мы обсуждали на занятиях? (1 балл)"
   ]
  },
  {
   "cell_type": "code",
   "execution_count": 164,
   "metadata": {},
   "outputs": [
    {
     "name": "stdout",
     "output_type": "stream",
     "text": [
      "Bias: 24.16571395945386, Variance: 0.15187110107115567, L: 24.440916184616707\n",
      "Bias: 15.466921698925303, Variance: 8.338069310318248, L: 24.219540769473706\n"
     ]
    },
    {
     "name": "stderr",
     "output_type": "stream",
     "text": [
      "C:\\Users\\ische\\Anaconda3\\lib\\site-packages\\sklearn\\ensemble\\forest.py:245: FutureWarning: The default value of n_estimators will change from 10 in version 0.20 to 100 in 0.22.\n",
      "  \"10 in version 0.20 to 100 in 0.22.\", FutureWarning)\n"
     ]
    },
    {
     "name": "stdout",
     "output_type": "stream",
     "text": [
      "Bias: 12.653270502358808, Variance: 7.402219701485804, L: 21.33524061796935\n"
     ]
    }
   ],
   "source": [
    "regr_inits = [LinearRegression, DecisionTreeRegressor, RandomForestRegressor]\n",
    "s = 10\n",
    "bootstrap_percent = 0.75\n",
    "n = X.shape[0]\n",
    "I = range(n)\n",
    "y_pred_acc = [[] for i in range(n)]\n",
    "error_acc = []\n",
    "\n",
    "for regr_init in regr_inits:\n",
    "    regr = regr_init()\n",
    "    \n",
    "    for j in range(s):\n",
    "        I_j = resample(I, replace=False, n_samples=int(n*bootstrap_percent))\n",
    "        X_j = X[I_j]\n",
    "        y_j = y[I_j]\n",
    "        \n",
    "        K_j = [i for i in I if i not in I_j]\n",
    "        T_j = np.asarray([X[i] for i in I if i not in I_j])\n",
    "        u_j = np.asarray([y[i] for i in I if i not in I_j])\n",
    "        \n",
    "        regr.fit(X_j, y_j)\n",
    "        u_j_pred = regr.predict(T_j)\n",
    "        for k, i in zip(K_j, range(len(K_j))):\n",
    "            y_pred_acc[k].append(u_j_pred[i])\n",
    "            error_acc.append((y[k]-u_j_pred[i])**2)\n",
    "        \n",
    "    element_bias_acc = []\n",
    "    for y_pred_list, i in zip(y_pred_acc, range(n)):\n",
    "        if not y_pred_list:\n",
    "            continue\n",
    "        m = np.mean(y_pred_list)\n",
    "        element_bias_acc.append((y[i] - m)**2)\n",
    "\n",
    "    bias = np.mean(element_bias_acc)\n",
    "    variance = np.mean([np.var(y_pred_list) for y_pred_list in y_pred_acc if y_pred_list])\n",
    "    error = np.mean(error_acc)\n",
    "    print(\"Bias: {}, Variance: {}, L: {}\".format(bias, variance, error))\n"
   ]
  },
  {
   "cell_type": "markdown",
   "metadata": {},
   "source": [
    "Как и ожидалось, линейная регрессия имеет большое смешение и маленький разброс, дерево имеет большой разброс и небольшое смещение, лес - чуть меньший чем удерева разброс и меньшее смещение. "
   ]
  },
  {
   "cell_type": "code",
   "execution_count": null,
   "metadata": {},
   "outputs": [],
   "source": []
  }
 ],
 "metadata": {
  "kernelspec": {
   "display_name": "Python 3",
   "language": "python",
   "name": "python3"
  },
  "language_info": {
   "codemirror_mode": {
    "name": "ipython",
    "version": 3
   },
   "file_extension": ".py",
   "mimetype": "text/x-python",
   "name": "python",
   "nbconvert_exporter": "python",
   "pygments_lexer": "ipython3",
   "version": "3.7.3"
  }
 },
 "nbformat": 4,
 "nbformat_minor": 2
}
