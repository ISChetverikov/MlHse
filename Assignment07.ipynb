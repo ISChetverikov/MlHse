{
 "cells": [
  {
   "cell_type": "markdown",
   "metadata": {},
   "source": [
    "## Задание 07"
   ]
  },
  {
   "cell_type": "markdown",
   "metadata": {},
   "source": [
    "### Задача 1. Смещение константного алгоритма (2 балла)\n",
    "Пусть $x \\in R^d$, и значение каждого признака на объекте $x$ независимо генерируется из равномерного распределения $x_i\\in U[0,1],i=1,2\\dots,d$. Будем считать, что объекты в выборке независимы, а $\\mathbb{E}[y|x]=x^Tx.$ Найдите смещение константного алгоритма, полученного минимизацией среднеквадратичной ошибки на обучающей выборке. "
   ]
  },
  {
   "cell_type": "markdown",
   "metadata": {},
   "source": [
    "Как известно, константа наилучшим образом приближающая по среднеквадратичной ошибке это матожидание\n",
    "\n",
    "$$c = \\int_x x^Txp(x)$$\n",
    "\n",
    "\n",
    "$$Q(R)(c) = \\int_{X,Y} p(x, y)(y-c)^2dxdy = \\int_Xp(x)(\\int_Yp(y|x)(y-c)^2dy)dx =\\\\ \\int_X (p(x)(c^2-2c\\mathrm{E}(y|x)+\\int y^2p(y|x)dy)dx) = c^2 - 2c\\mathrm{E}(xx^T) +\\mathrm{E}(xx^T)^2$$\n",
    "\n",
    "$$\\mathrm{E}(xx^T) = \\frac{d}{3}$$\n",
    "$$\\mathrm{E}(xx^T)^2 = \\frac{d}{5} + \\frac{d(d-1)}{9}$$\n",
    "\n",
    "$$bias = \\frac{4d}{45}$$"
   ]
  },
  {
   "cell_type": "markdown",
   "metadata": {},
   "source": [
    "### Задача 2. Разложение ошибки (2 балла)\n",
    "Истинная зависимость имеет вид $y_i = 3x^2_i+ u_i$, где $y_i$ - прогнозируемая переменная, $x_i$-признак и $u_i$ - случайная составляющая. Величины $x_i$ независимы и равновероятно принимаю значения $0, 1, 2$. Величины $u_i$ независимы и равновероятно принимают значения $−1$ и $1$.\n",
    "Исследователь Анатолий оценивает модель линейной регрессии $y_i = wx_i$, минимизируя среднеквадратичную ошибку.\n",
    "Разложите ожидание квадрата ошибки прогноза на шум, смещение и разброс."
   ]
  },
  {
   "cell_type": "markdown",
   "metadata": {
    "collapsed": true
   },
   "source": [
    "$$Q(w) = \\int_X (3\\cdot x_i^2 + u_i - w\\cdot x_i)^2 \\to min_w$$\n",
    "$$\\frac{\\partial Q}{\\partial w} = \\int_X -(3\\cdot x_i^2 + u_i - w\\cdot x_i)\\cdot w = 0$$\n",
    "$$w = \\frac{6\\cdot\\mathrm{E}{x_i^2} }{2\\cdot\\mathrm{E}x_i } = 5$$\n",
    "\n",
    "Шум\n",
    "$$\\sigma^2 = \\frac{1}{2}*1+\\frac{1}{2}*1 = 1$$\n",
    "\n",
    "Смещение\n",
    "$$\\mathrm{E}(f-\\hat{f}) = \\mathrm{E}(3x_i^2 - wx_i)^2 = \\frac{5w^2-54w+153}{3}$$\n",
    "\n",
    "Разброс\n",
    "$$\\mathrm{D}(\\hat{f}) = \\mathrm{D}(5x_i - wx_i)^2 = \\frac{2(5-w)^2}{3} $$"
   ]
  },
  {
   "cell_type": "markdown",
   "metadata": {},
   "source": [
    "### Задача 3. Взвешенное голосование (2 балла)\n",
    "Рассмотрим задачу бинарной классификации, пусть у нас есть три алгоритма $b_1(x), b_2(x)$ и $b_3(x)$, каждый из которых ошибается с вероятностью $p$. Мы строим композицию взвешенным голосованием: алгоритмам присвоены значимости $w_1, w_2$ и $w_3$, и для вынесения вердикта суммируются значимости алгоритмов, проголосовавших за каждый из классов:\n",
    "$$\n",
    "a_0=\\sum_{i=1}^3w_i[b_i(x)=0], $$\n",
    "$$\n",
    "a_1=\\sum_{i=1}^3w_i[b_i(x)=1]. \\\\\n",
    "$$\n",
    "Объект $x$ относится к классу, для которого сумма оказалась максимальной. Например, если первые два алгоритма голосуют за класс $0$, а третий за класс $1$, то выбирается класс $0$, если $w_1+w_2>w_3$, и класс $1$ в противном случае. Какова вероятность ошибки такой композиции этих трех алгоритмов, если:\n",
    "\n",
    "* $w_1=0.3, w_2=0.4, w_3=0.3$;\n",
    "* $w_1=0.2, w_2=0.5, w_3=0.2$?\n"
   ]
  },
  {
   "cell_type": "markdown",
   "metadata": {
    "collapsed": true
   },
   "source": [
    "* $w_1=0.3, w_2=0.4, w_3=0.3$;\n",
    "\n",
    "  Для того чтобы был принят верный ответ, необходимо чтобы ответило верно ответило как минимум 2 алгоритма.\n",
    "  \n",
    "  Тогда $\\hat{p} = 3*p^2*(1-p) + p^3 = 3*p^2 - 2*p^3$\n",
    "  \n",
    "* $w_1=0.2, w_2=0.5, w_3=0.2$\n",
    "  \n",
    "  Так как один из алгоритмов имеет вес 0.5, значит решение принадлежит алгоритму 2\n",
    "  \n",
    "  Тогда $\\hat{p} = p$"
   ]
  },
  {
   "cell_type": "markdown",
   "metadata": {},
   "source": [
    "### Задача 4. Разложение ошибки с помощью бутстрапа "
   ]
  },
  {
   "cell_type": "markdown",
   "metadata": {},
   "source": [
    "В этом задании вам предстоит воспользоваться возможностями bootstraping для оценки смещения и разброса алгоритмов машинного обучения. Делать мы это будем на данных boston:"
   ]
  },
  {
   "cell_type": "code",
   "execution_count": 1,
   "metadata": {},
   "outputs": [],
   "source": [
    "import numpy as np\n",
    "import pandas as pd\n",
    "from matplotlib import pyplot as plt\n",
    "%matplotlib inline"
   ]
  },
  {
   "cell_type": "code",
   "execution_count": 2,
   "metadata": {},
   "outputs": [],
   "source": [
    "from sklearn.datasets import load_boston"
   ]
  },
  {
   "cell_type": "code",
   "execution_count": 4,
   "metadata": {},
   "outputs": [
    {
     "data": {
      "text/plain": [
       "((506, 13), (506,))"
      ]
     },
     "execution_count": 4,
     "metadata": {},
     "output_type": "execute_result"
    }
   ],
   "source": [
    "boston = load_boston()\n",
    "X = boston[\"data\"]\n",
    "y = boston[\"target\"]\n",
    "X.shape, y.shape"
   ]
  },
  {
   "cell_type": "markdown",
   "metadata": {},
   "source": [
    "#### Алгоритм оценки смещения и разброса алгоритма $a$\n",
    "\n",
    "1. Сгенерировать $s$ выборок $X_j$ методом бутстрапа.\n",
    "\n",
    "2. На каждой выборке $X_j$ обучить алгоритм $a_j$.\n",
    "\n",
    "3. Для каждой выборки $X_j$ определить множество объектов $T_j$, не вошедших в нее (out-of-bag). Вычислить предсказания алгоритма $a_j$ на объектах $T_j$.\n",
    "\n",
    "Поскольку у нас есть только один ответ для каждого объекта, мы будем считать шум равным 0, а $\\mathbb{E}[y|x]$ равным имеющемуся правильному ответу для объекта $x$.\n",
    "\n",
    "#### Итоговые оценки:\n",
    "\n",
    "* #### Смещение: \n",
    "для одного объекта - квадрат разности среднего предсказания и правильного ответа. Среднее предсказание берется только по тем алгоритмам $a_j$, для которых этот объект входил в out-of-bag выборку $T_j$. Для получения общего смещения выполнить усреденение смещений по объектам.\n",
    "* #### Разброс: \n",
    "для одного объекта - выборочная дисперсия предсказаний алгоритмов $a_j$, для которых этот объект входил в out-of-bag выборку $T_j$. Для получения общего разброса выполнить усреденение разбросов по объектам.\n",
    "* #### Ошибка $L$:\n",
    "усреднить квадраты разностей предсказания и правильного ответа по всем выполненным предсказаниям для всех объектов.\n",
    "\n",
    "В результате должно получиться, что ошибка приблизительно равна сумме смещения и разброса!"
   ]
  },
  {
   "cell_type": "markdown",
   "metadata": {},
   "source": [
    "* реализуйте описанный алгоритм. Обратите внимание, что если объект не вошел ни в одну из out-of-bag выборок, учитывать его в вычислении итоговых величин не нужно. (3 балла) \n",
    "\n",
    "* Оцените смещение, разброс и ошибку для трех алгоритмов с гиперпараметрами по умолчанию: линейная регрессия, решающее дерево, случайный лес.\n",
    "\n",
    "* Проанализируйте полученный результат. Согласуются ли полученные результаты с теми, что мы обсуждали на занятиях? (1 балл)"
   ]
  },
  {
   "cell_type": "code",
   "execution_count": 63,
   "metadata": {},
   "outputs": [],
   "source": [
    "from sklearn.ensemble import RandomForestRegressor\n",
    "from sklearn.tree import DecisionTreeRegressor\n",
    "from sklearn.linear_model import LinearRegression\n",
    "from numpy import random\n",
    "from sklearn.metrics import mean_squared_error\n",
    "import math"
   ]
  },
  {
   "cell_type": "code",
   "execution_count": 22,
   "metadata": {},
   "outputs": [],
   "source": [
    "sample_size = y.shape[0]\n",
    "s = 5"
   ]
  },
  {
   "cell_type": "code",
   "execution_count": 23,
   "metadata": {},
   "outputs": [],
   "source": [
    "bootstrap = lambda : random.randint(0, sample_size, size = sample_size)\n",
    "bootstrap_test = lambda x: list(set(range(sample_size)).difference(set(x)))"
   ]
  },
  {
   "cell_type": "code",
   "execution_count": 85,
   "metadata": {},
   "outputs": [],
   "source": [
    "def BVD(model, s = s):\n",
    "    bias = [[] for i in range(sample_size)]\n",
    "    var = [[] for i in range(sample_size)]\n",
    "    err = []\n",
    "    \n",
    "    for _ in range(s):\n",
    "        md = model()\n",
    "        \n",
    "        ind = bootstrap()\n",
    "        ind_test = bootstrap_test(ind)\n",
    "        md.fit(X[ind], y[ind])\n",
    "        \n",
    "        for i in ind_test:\n",
    "            bias[i].append((md.predict([X[i]])[0] - y[i])**2)\n",
    "            var[i].append(md.predict([X[i]])[0])\n",
    "        \n",
    "        err.append(mean_squared_error(y[ind_test], md.predict(X[ind_test])))\n",
    "        \n",
    "    bias = np.mean([np.mean(b) for b in bias if len(b)>1])\n",
    "    var = np.mean([np.std(b)**2 for b in var if len(b)>1])\n",
    "    \n",
    "    return bias, var, np.mean(err)"
   ]
  },
  {
   "cell_type": "code",
   "execution_count": 86,
   "metadata": {},
   "outputs": [
    {
     "data": {
      "text/plain": [
       "(24.205688078129953, 0.5902325369334707, 23.25246055186871)"
      ]
     },
     "execution_count": 86,
     "metadata": {},
     "output_type": "execute_result"
    }
   ],
   "source": [
    "BVD(LinearRegression)"
   ]
  },
  {
   "cell_type": "code",
   "execution_count": 87,
   "metadata": {},
   "outputs": [
    {
     "name": "stderr",
     "output_type": "stream",
     "text": [
      "/Users/valerka_bvv/anaconda2/envs/py37/lib/python3.7/site-packages/sklearn/ensemble/forest.py:245: FutureWarning: The default value of n_estimators will change from 10 in version 0.20 to 100 in 0.22.\n",
      "  \"10 in version 0.20 to 100 in 0.22.\", FutureWarning)\n",
      "/Users/valerka_bvv/anaconda2/envs/py37/lib/python3.7/site-packages/sklearn/ensemble/forest.py:245: FutureWarning: The default value of n_estimators will change from 10 in version 0.20 to 100 in 0.22.\n",
      "  \"10 in version 0.20 to 100 in 0.22.\", FutureWarning)\n",
      "/Users/valerka_bvv/anaconda2/envs/py37/lib/python3.7/site-packages/sklearn/ensemble/forest.py:245: FutureWarning: The default value of n_estimators will change from 10 in version 0.20 to 100 in 0.22.\n",
      "  \"10 in version 0.20 to 100 in 0.22.\", FutureWarning)\n",
      "/Users/valerka_bvv/anaconda2/envs/py37/lib/python3.7/site-packages/sklearn/ensemble/forest.py:245: FutureWarning: The default value of n_estimators will change from 10 in version 0.20 to 100 in 0.22.\n",
      "  \"10 in version 0.20 to 100 in 0.22.\", FutureWarning)\n",
      "/Users/valerka_bvv/anaconda2/envs/py37/lib/python3.7/site-packages/sklearn/ensemble/forest.py:245: FutureWarning: The default value of n_estimators will change from 10 in version 0.20 to 100 in 0.22.\n",
      "  \"10 in version 0.20 to 100 in 0.22.\", FutureWarning)\n"
     ]
    },
    {
     "data": {
      "text/plain": [
       "(16.874310244029072, 2.112362804863274, 16.11558692726518)"
      ]
     },
     "execution_count": 87,
     "metadata": {},
     "output_type": "execute_result"
    }
   ],
   "source": [
    "BVD(RandomForestRegressor)"
   ]
  },
  {
   "cell_type": "code",
   "execution_count": 91,
   "metadata": {},
   "outputs": [
    {
     "data": {
      "text/plain": [
       "(22.77690746934225, 7.878715830546266, 24.787379459738293)"
      ]
     },
     "execution_count": 91,
     "metadata": {},
     "output_type": "execute_result"
    }
   ],
   "source": [
    "BVD(DecisionTreeRegressor)"
   ]
  },
  {
   "cell_type": "markdown",
   "metadata": {},
   "source": [
    "Как и предполагалось, регрессия имеет большое смешение и маленький разброс, лес небольшой разброс и смешение, дерево - большой разброс"
   ]
  },
  {
   "cell_type": "code",
   "execution_count": null,
   "metadata": {},
   "outputs": [],
   "source": []
  }
 ],
 "metadata": {
  "kernelspec": {
   "display_name": "Python 3",
   "language": "python",
   "name": "python3"
  },
  "language_info": {
   "codemirror_mode": {
    "name": "ipython",
    "version": 3
   },
   "file_extension": ".py",
   "mimetype": "text/x-python",
   "name": "python",
   "nbconvert_exporter": "python",
   "pygments_lexer": "ipython3",
   "version": "3.7.3"
  }
 },
 "nbformat": 4,
 "nbformat_minor": 2
}
