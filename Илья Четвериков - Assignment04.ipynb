{
 "cells": [
  {
   "cell_type": "markdown",
   "metadata": {},
   "source": [
    "###  Задача 1. (2 балла)\n",
    "Позволяет ли предсказывать корректные вероятности:\n",
    "\n",
    "1) квадратичная функция потерь $L(y, z) =(y-z)^2$, \n",
    "\n",
    "2) экспоненциальная функция потерь $L(y, z) = \\exp(-yz)$ ?"
   ]
  },
  {
   "cell_type": "markdown",
   "metadata": {},
   "source": [
    "Проверим, что значение вероятности $p(y=+1|x)=p$ доставляет минимум матожидания функции потерь  \n",
    "1) Метка положительносго класса 1, метка отрицательного 0  \n",
    "$$E=E[L(y,z)|x]=p*(z-1)^2+(1-p)*z^2$$\n",
    "$$\\frac{\\partial E}{\\partial z}=2p(z-1)+2(1-p)z=0$$\n",
    "$$2z=2p$$\n",
    "$$z=p$$\n",
    "p - локальный минимум => Квадратичная функция потерь позволяет предсказывать корректные вероятности\n",
    "\n",
    "2) Пусть метка положительного класса - a, отрицательного - b\n",
    "$$E=E[L(y,z)|x]=p*e^{-az}+(1-p)*e^{-bz}$$\n",
    "$$\\frac{\\partial E}{\\partial z}=-p*e^{-az}-(1-p)*e^{-bz}=0$$\n",
    "$$e^{(b-a)z}=\\frac{p-1}{p}$$\n",
    "$$z=\\frac{1}{b-a}\\ln\\frac{p-1}{p}$$\n",
    "Не выполнены необходимые условия первого порядка в точке p => экспоненциальная функция не предсказывает корректные вероятности"
   ]
  },
  {
   "cell_type": "markdown",
   "metadata": {},
   "source": [
    "### Задача 2.  (2 балла)\n",
    "Рассмотрим два вектора, $v_1=(1,1,2)$ и $v_2=(1,1,1)$. Переход в спрямляющее пространство осуществляется с помощью гауссовской ядерной функции $K(v,v {'})=\\exp(-\\gamma|v-v{'}|^2)$.\n",
    "*  Как от $\\gamma$ зависят длины векторов в спрямляющем пространстве?\n",
    "*  Как от $\\gamma$ зависит угол между векторами в спрямляющем пространстве?"
   ]
  },
  {
   "cell_type": "markdown",
   "metadata": {},
   "source": [
    "$$\\|\\phi(x)\\|=\\sqrt{\\langle \\phi(x),\\phi(x) \\rangle}=\\sqrt{K(x,x)}=\\sqrt{\\exp(-\\gamma|x-x|^2)}=1$$\n",
    "Получается, длины не зависят от $\\gamma$\n",
    "$$\\cos(\\phi(x),\\phi(y))=\\frac{\\langle \\phi(x),\\phi(x) \\rangle}{\\|\\phi(x)\\|\\|\\phi(y)\\|}=K(x,y)=\\exp(-\\gamma|x-y|^2)$$\n",
    "$$\\cos(\\phi(v_1),\\phi(v_2))=\\exp(-\\gamma1^2)=\\exp(-\\gamma)$$\n",
    "Получили зависимость косинуса угла между данными векторами в спрямляющем пространстве от гамма"
   ]
  },
  {
   "cell_type": "markdown",
   "metadata": {},
   "source": [
    "### Задача 3. (2 балла) \n",
    "\n",
    "Является ли функция $K(x,z)=\\cos(x-z)$ ядром?"
   ]
  },
  {
   "cell_type": "markdown",
   "metadata": {},
   "source": [
    "$$ K(x,x{'})=\\phi(x)\\phi(x{'}) - ядро \\; \\forall \\phi:X \\rightarrow R  $$\n",
    "$$ K(x,x{'})=\\alpha K_0(x,x{'})+ \\beta K_1(x,x{'}) - ядро, если K_0, K_1 - ядра, \\alpha, \\beta \\geq 0$$\n",
    "$$ \\cos(x-z)=\\cos(x)\\cos(z)+\\sin(x)\\cos(y)$$\n",
    "Значит данная функция является ядром"
   ]
  },
  {
   "cell_type": "markdown",
   "metadata": {},
   "source": [
    "### Задача 4. (4 балла)"
   ]
  },
  {
   "cell_type": "code",
   "execution_count": 51,
   "metadata": {},
   "outputs": [],
   "source": [
    "\n",
    "import pandas as pd\n",
    "\n",
    "from sklearn.datasets import make_classification\n",
    "from sklearn.model_selection import train_test_split"
   ]
  },
  {
   "cell_type": "markdown",
   "metadata": {},
   "source": [
    "Сгенерируем синтетические данные:"
   ]
  },
  {
   "cell_type": "code",
   "execution_count": 52,
   "metadata": {},
   "outputs": [],
   "source": [
    "X, y = make_classification(\n",
    "    n_samples=10000, n_features=10, n_informative=5, n_redundant=5,\n",
    "    random_state=42)\n",
    "\n",
    "X_train, X_test, y_train, y_test = train_test_split(\n",
    "    X, y, test_size=0.3, random_state=42)"
   ]
  },
  {
   "cell_type": "markdown",
   "metadata": {},
   "source": [
    "####  1. Обучите метод опорных векторов. Воспользуйтесь классом [LinearSVC](https://scikit-learn.org/stable/modules/generated/sklearn.svm.LinearSVC.html)."
   ]
  },
  {
   "cell_type": "code",
   "execution_count": 53,
   "metadata": {},
   "outputs": [],
   "source": [
    "from sklearn.svm import LinearSVC\n",
    "\n",
    "clf = LinearSVC(max_iter=10000)\n",
    "clf.fit(X_train, y_train);\n",
    "\n",
    "y_pred = clf.predict(X_test)"
   ]
  },
  {
   "cell_type": "markdown",
   "metadata": {},
   "source": [
    "#### 2. Чему равны доля верных предсказаний, точность, полнота и F-мера классификатора? "
   ]
  },
  {
   "cell_type": "code",
   "execution_count": 54,
   "metadata": {},
   "outputs": [
    {
     "name": "stdout",
     "output_type": "stream",
     "text": [
      "Accuracy = 0.7716666666666666\n",
      "Precision = 0.7758620689655172\n",
      "Recall = 0.7712590639419907\n",
      "F1 score = 0.7735537190082645\n"
     ]
    }
   ],
   "source": [
    "from sklearn import metrics\n",
    "\n",
    "print ('Accuracy =', metrics.accuracy_score(y_test, y_pred))\n",
    "print ('Precision =', metrics.precision_score(y_test, y_pred))\n",
    "print ('Recall =', metrics.recall_score(y_test, y_pred))\n",
    "print ('F1 score =', metrics.f1_score(y_test, y_pred))"
   ]
  },
  {
   "cell_type": "markdown",
   "metadata": {},
   "source": [
    "#### 3.  Постройте ROC кривую. Определите AUC-ROC. \n",
    "Обратите внимание, что метод опорных векторов  не умеет predict_proba, но имеет метод decision_function.\n",
    "Определите вероятности принадлежности к положительному классу как:\n",
    "$$P(y=+1|x)=\\frac{a(x)-\\min(a_i)}{\\max(a_i)-\\min(a_i)}$$"
   ]
  },
  {
   "cell_type": "code",
   "execution_count": 55,
   "metadata": {},
   "outputs": [
    {
     "data": {
      "image/png": "[encoded data removed]",
      "text/plain": [
       "<Figure size 432x288 with 1 Axes>"
      ]
     },
     "metadata": {
      "needs_background": "light"
     },
     "output_type": "display_data"
    },
    {
     "name": "stdout",
     "output_type": "stream",
     "text": [
      "AUC-ROC 0.8476457642781673\n"
     ]
    }
   ],
   "source": [
    "a = clf.decision_function(X_test)\n",
    "P = (a - a.min())/(a.max() - a.min())\n",
    "\n",
    "fpr, tpr, thresholds = metrics.roc_curve(y_test, P)\n",
    "plt.plot(fpr, tpr)\n",
    "plt.xlabel('FPR')\n",
    "\n",
    "plt.ylabel('TPR')\n",
    "plt.title(\"AUC-ROC for log regression with default paramters\")\n",
    "plt.show()\n",
    "\n",
    "print(\"AUC-ROC {}\".format(metrics.auc(fpr, tpr)))"
   ]
  },
  {
   "cell_type": "markdown",
   "metadata": {},
   "source": [
    "#### 4. Калибровка вероятностей.  "
   ]
  },
  {
   "cell_type": "markdown",
   "metadata": {},
   "source": [
    "Перейдём к оценке качества выдаваемых алгоритмами вероятностей. Начнём с калибровочных кривых.\n",
    "\n",
    "Допустим, алгоритм возвращает некоторые числа от нуля до единицы. Хорошо ли они оценивают вероятность? Для этого разобьем отрезок $[0, 1]$ на несколько маленьких отрезков одинаковой длины. Рассмотрим $i$-й отрезок с границами $[a_i, b_i]$ и предсказания $p_1, p_2, \\dots, p_k$, которые попали в него. Пусть им соответствуют истинные ответы $y_1, y_2, \\dots, y_k$. Если алгоритм выдает корректные вероятности, то среди этих истинных ответов должно быть примерно $(a_i + b_i) / 2$ единиц. Иными словами, если нарисовать кривую, у которой по оси X отложены центры отрезков, а по оси Y — доли единичных ответов этих в отрезках, то она должна оказаться диагональной. \n",
    "#### Нарисуйте для найденных вероятностей калибровочную кривую, сравните с диагональю. \n",
    "Воспользуйтесь [calibration_curve](https://scikit-learn.org/stable/modules/generated/sklearn.calibration.calibration_curve.html)."
   ]
  },
  {
   "cell_type": "code",
   "execution_count": 56,
   "metadata": {},
   "outputs": [
    {
     "data": {
      "image/png": "[encoded data removed]",
      "text/plain": [
       "<Figure size 432x288 with 1 Axes>"
      ]
     },
     "metadata": {
      "needs_background": "light"
     },
     "output_type": "display_data"
    }
   ],
   "source": [
    "from sklearn.calibration import CalibratedClassifierCV, calibration_curve\n",
    "\n",
    "fraction_of_positives, mean_predicted_value = calibration_curve(y_test, P, n_bins=10)\n",
    "plt.plot(mean_predicted_value, fraction_of_positives, \"s-\");\n",
    "plt.plot([0,1], [0,1], \"s-\");\n",
    "plt.xlabel('Mean predicted value')\n",
    "plt.ylabel('Fraction of positives')\n",
    "plt.title(\"Calibration curve\")\n",
    "plt.show()"
   ]
  },
  {
   "cell_type": "markdown",
   "metadata": {},
   "source": [
    "\n",
    "Воспользуйтесь [CalibratedClassifierCV](https://scikit-learn.org/stable/modules/generated/sklearn.calibration.CalibratedClassifierCV.html#sklearn.calibration.CalibratedClassifierCV)из sklearn для калибровки вероятностей метода опорных векторов на обучении и постройте с его помощью предсказания для тестовой выборки. Нарисуйте для них калибровочную кривую. Улучшилась ли она?"
   ]
  },
  {
   "cell_type": "code",
   "execution_count": 57,
   "metadata": {},
   "outputs": [
    {
     "data": {
      "image/png": "[encoded data removed]",
      "text/plain": [
       "<Figure size 432x288 with 1 Axes>"
      ]
     },
     "metadata": {
      "needs_background": "light"
     },
     "output_type": "display_data"
    }
   ],
   "source": [
    "sigmoid = CalibratedClassifierCV(LinearSVC(max_iter=10000), cv=3, method='sigmoid')\n",
    "\n",
    "sigmoid.fit(X_train, y_train)\n",
    "y_pred = sigmoid.predict(X_test)\n",
    "P_calibrated = sigmoid.predict_proba(X_test)[:,1]\n",
    " \n",
    "fraction_of_positives, mean_predicted_value = calibration_curve(y_test, P_calibrated, n_bins=10)\n",
    "plt.plot(mean_predicted_value, fraction_of_positives, \"s-\");\n",
    "plt.plot([0,1], [0,1], \"s-\");\n",
    "plt.xlabel('Mean predicted value')\n",
    "plt.ylabel('Fraction of positives')\n",
    "plt.title(\"Calibration curve after calibration\")\n",
    "plt.show()"
   ]
  },
  {
   "cell_type": "markdown",
   "metadata": {},
   "source": [
    "До калибровки вероятностей, калибровочная кривая не была похоже на диагональ, после - стала похожа"
   ]
  },
  {
   "cell_type": "code",
   "execution_count": null,
   "metadata": {},
   "outputs": [],
   "source": []
  }
 ],
 "metadata": {
  "kernelspec": {
   "display_name": "Python 3",
   "language": "python",
   "name": "python3"
  },
  "language_info": {
   "codemirror_mode": {
    "name": "ipython",
    "version": 3
   },
   "file_extension": ".py",
   "mimetype": "text/x-python",
   "name": "python",
   "nbconvert_exporter": "python",
   "pygments_lexer": "ipython3",
   "version": "3.7.3"
  }
 },
 "nbformat": 4,
 "nbformat_minor": 2
}
