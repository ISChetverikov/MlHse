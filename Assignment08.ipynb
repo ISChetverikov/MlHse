{
 "cells": [
  {
   "cell_type": "markdown",
   "metadata": {
    "colab_type": "text",
    "id": "HtE-n2UmFUnv"
   },
   "source": [
    "## Задание 08\n",
    "В задании не будет подробных инструкций. Ваша задача - построить классификатор с как можно лучшим качеством (AUC-ROC). "
   ]
  },
  {
   "cell_type": "code",
   "execution_count": 80,
   "metadata": {
    "colab": {},
    "colab_type": "code",
    "id": "497ibzUSFUn7"
   },
   "outputs": [],
   "source": [
    "import numpy as np\n",
    "import pandas as pd\n",
    "from sklearn.preprocessing import StandardScaler\n",
    "from sklearn.model_selection import train_test_split\n",
    "from sklearn.linear_model import LogisticRegression\n",
    "from xgboost import XGBClassifier\n",
    "from sklearn.metrics import roc_auc_score\n",
    "from sklearn.model_selection import GridSearchCV\n",
    "from catboost import CatBoostClassifier, Pool\n",
    "from sklearn.preprocessing import OneHotEncoder"
   ]
  },
  {
   "cell_type": "markdown",
   "metadata": {
    "colab_type": "text",
    "id": "YvkCFmExFUoL"
   },
   "source": [
    "Будем работать с данными по авиарейсам в США. Задача  -  предсказать задержку вылета более 15 минут (задача бинарной классификации).\n",
    "\n",
    "Признаки:\n",
    "\n",
    "* Month, DayofMonth, DayOfWeek, месяц, день месяца и день недели\n",
    "* DepTime, время отправления\n",
    "* UniqueCarrier, код перевозчика\n",
    "* Origin, место вылета\n",
    "* Dest, место назначения\n",
    "* Distance, расстояние между аэропортами вылета и прилета\n",
    "* dep_delayed_15min, просрочка вылета на 15 и более минут (целевой признак)\n"
   ]
  },
  {
   "cell_type": "code",
   "execution_count": 81,
   "metadata": {
    "colab": {},
    "colab_type": "code",
    "id": "j20B-NeiFUoN"
   },
   "outputs": [],
   "source": [
    "df = pd.read_csv('flight_delays.csv')"
   ]
  },
  {
   "cell_type": "code",
   "execution_count": 82,
   "metadata": {
    "colab": {},
    "colab_type": "code",
    "id": "7TaGrT1lFUoY",
    "outputId": "5a48a9f1-77fe-44d7-cfd5-ef364611a873"
   },
   "outputs": [
    {
     "data": {
      "text/html": [
       "<div>\n",
       "<style scoped>\n",
       "    .dataframe tbody tr th:only-of-type {\n",
       "        vertical-align: middle;\n",
       "    }\n",
       "\n",
       "    .dataframe tbody tr th {\n",
       "        vertical-align: top;\n",
       "    }\n",
       "\n",
       "    .dataframe thead th {\n",
       "        text-align: right;\n",
       "    }\n",
       "</style>\n",
       "<table border=\"1\" class=\"dataframe\">\n",
       "  <thead>\n",
       "    <tr style=\"text-align: right;\">\n",
       "      <th></th>\n",
       "      <th>Month</th>\n",
       "      <th>DayofMonth</th>\n",
       "      <th>DayOfWeek</th>\n",
       "      <th>DepTime</th>\n",
       "      <th>UniqueCarrier</th>\n",
       "      <th>Origin</th>\n",
       "      <th>Dest</th>\n",
       "      <th>Distance</th>\n",
       "      <th>dep_delayed_15min</th>\n",
       "    </tr>\n",
       "  </thead>\n",
       "  <tbody>\n",
       "    <tr>\n",
       "      <th>99995</th>\n",
       "      <td>c-5</td>\n",
       "      <td>c-4</td>\n",
       "      <td>c-3</td>\n",
       "      <td>1618</td>\n",
       "      <td>OO</td>\n",
       "      <td>SFO</td>\n",
       "      <td>RDD</td>\n",
       "      <td>199</td>\n",
       "      <td>N</td>\n",
       "    </tr>\n",
       "    <tr>\n",
       "      <th>99996</th>\n",
       "      <td>c-1</td>\n",
       "      <td>c-18</td>\n",
       "      <td>c-3</td>\n",
       "      <td>804</td>\n",
       "      <td>CO</td>\n",
       "      <td>EWR</td>\n",
       "      <td>DAB</td>\n",
       "      <td>884</td>\n",
       "      <td>N</td>\n",
       "    </tr>\n",
       "    <tr>\n",
       "      <th>99997</th>\n",
       "      <td>c-1</td>\n",
       "      <td>c-24</td>\n",
       "      <td>c-2</td>\n",
       "      <td>1901</td>\n",
       "      <td>NW</td>\n",
       "      <td>DTW</td>\n",
       "      <td>IAH</td>\n",
       "      <td>1076</td>\n",
       "      <td>N</td>\n",
       "    </tr>\n",
       "    <tr>\n",
       "      <th>99998</th>\n",
       "      <td>c-4</td>\n",
       "      <td>c-27</td>\n",
       "      <td>c-4</td>\n",
       "      <td>1515</td>\n",
       "      <td>MQ</td>\n",
       "      <td>DFW</td>\n",
       "      <td>GGG</td>\n",
       "      <td>140</td>\n",
       "      <td>N</td>\n",
       "    </tr>\n",
       "    <tr>\n",
       "      <th>99999</th>\n",
       "      <td>c-11</td>\n",
       "      <td>c-17</td>\n",
       "      <td>c-4</td>\n",
       "      <td>1800</td>\n",
       "      <td>WN</td>\n",
       "      <td>SEA</td>\n",
       "      <td>SMF</td>\n",
       "      <td>605</td>\n",
       "      <td>N</td>\n",
       "    </tr>\n",
       "  </tbody>\n",
       "</table>\n",
       "</div>"
      ],
      "text/plain": [
       "      Month DayofMonth DayOfWeek  DepTime UniqueCarrier Origin Dest  Distance  \\\n",
       "99995   c-5        c-4       c-3     1618            OO    SFO  RDD       199   \n",
       "99996   c-1       c-18       c-3      804            CO    EWR  DAB       884   \n",
       "99997   c-1       c-24       c-2     1901            NW    DTW  IAH      1076   \n",
       "99998   c-4       c-27       c-4     1515            MQ    DFW  GGG       140   \n",
       "99999  c-11       c-17       c-4     1800            WN    SEA  SMF       605   \n",
       "\n",
       "      dep_delayed_15min  \n",
       "99995                 N  \n",
       "99996                 N  \n",
       "99997                 N  \n",
       "99998                 N  \n",
       "99999                 N  "
      ]
     },
     "execution_count": 82,
     "metadata": {},
     "output_type": "execute_result"
    }
   ],
   "source": [
    "df.tail()"
   ]
  },
  {
   "cell_type": "markdown",
   "metadata": {
    "colab_type": "text",
    "id": "aUmFO1zHFUoi"
   },
   "source": [
    "В качестве простейшего бенчмарка возьмем логистическую регрессию и два признака, которые проще всего взять: `DepTime` и `Distance`:"
   ]
  },
  {
   "cell_type": "code",
   "execution_count": 83,
   "metadata": {
    "colab": {},
    "colab_type": "code",
    "id": "ESV8GE_bFUol"
   },
   "outputs": [],
   "source": [
    "X, y = df[['Distance', 'DepTime']].values, df['dep_delayed_15min'].map({'Y': 1, 'N': 0}).values\n",
    "X_train, X_test, y_train, y_test = train_test_split(X,y,test_size=0.3,random_state=17)"
   ]
  },
  {
   "cell_type": "code",
   "execution_count": 84,
   "metadata": {
    "colab": {},
    "colab_type": "code",
    "id": "SL5LukEfFUoy",
    "outputId": "a4070cb1-999b-44c2-bfb2-9fddd1d1d690"
   },
   "outputs": [
    {
     "name": "stdout",
     "output_type": "stream",
     "text": [
      "AUC-ROC: 0.6795697123357751\n"
     ]
    }
   ],
   "source": [
    "lr = LogisticRegression( solver='lbfgs',random_state=17)\n",
    "\n",
    "lr.fit(X_train, y_train)\n",
    "y_pred = lr.predict_proba(X_test)[:, 1]\n",
    "\n",
    "print('AUC-ROC:',roc_auc_score(y_test, y_pred))"
   ]
  },
  {
   "cell_type": "markdown",
   "metadata": {
    "colab_type": "text",
    "id": "AyiIlQs-FUo7"
   },
   "source": [
    "####  Критерии оценивания:"
   ]
  },
  {
   "cell_type": "markdown",
   "metadata": {
    "colab_type": "text",
    "id": "3q5-wt0bFUo_"
   },
   "source": [
    "#### 1. Предобработка данных  - 3 балла \n",
    "\n",
    "Предобработка включает one-hot кодирование категориальных признаков, заполнение пропусков (если есть),  генерацию новых признаков (например, вместо Origin и Dest можно ввести признак маршрут: Origin-Dest)"
   ]
  },
  {
   "cell_type": "markdown",
   "metadata": {
    "colab_type": "text",
    "id": "dAubDQWFFUpC"
   },
   "source": [
    "#### 2. Настройка параметров обучения - (4 балла) \n",
    "Настройка включает определение гиперпараметров бустинга (предполагается, что вы будете использовать XGBoost) на кросс-валидации: глубина деревьев, темп обучения, число деревьев и т.д. \n",
    "\n",
    "#### 3. Использование стекинга, отбора признаков и другое - (3 балла)\n",
    "\n",
    "Например, можно реализовать простейшую схему стекинга - блендинг:\n",
    "* обучите логистическую регрессию и градиентный бустинг;\n",
    "* постройте линейную смесь ответов логистической регрессии и градиентного бустинга вида \n",
    "$$p=w_1∗p_{lr}+(1−w_1)∗p_{xgb},$$ \n",
    "где  $p_{lr}$  – предсказанные логистической регрессией вероятности класса 1,  $p_{xgb}$ – бустинга. "
   ]
  },
  {
   "cell_type": "code",
   "execution_count": 91,
   "metadata": {},
   "outputs": [],
   "source": [
    "# df.isna().sum() - Nan is none\n",
    "# New features: Month-Day-Origin and Month-Day-Destination, encoded as mean tareget with regularization\n",
    "data = df.copy()\n",
    "data['Origin-Dest'] = data['Origin'] + '-' + data['Dest']\n",
    "data['dep_delayed_15min'] = data['dep_delayed_15min'].map({'Y': 1, 'N': 0}).values\n",
    "y = data['dep_delayed_15min']\n",
    "data = data.drop(columns=['dep_delayed_15min'])\n",
    "data = pd.get_dummies(data)\n",
    "X_train, X_test, y_train, y_test = train_test_split(data, y, test_size=0.3)"
   ]
  },
  {
   "cell_type": "code",
   "execution_count": null,
   "metadata": {},
   "outputs": [],
   "source": [
    "eval_set = [(X_test, y_test)]\n",
    "xgb = XGBClassifier(max_depth=5, n_estimators=100)\n",
    "params0 = {'max_depth':[2]}\n",
    "params = {'max_depth': [2,4,6,8, 10], 'n_estimators':[50, 100, 150, 200], 'learning_rate':np.linspace(0.0, 1.0, num=10)}\n",
    "#xgb_grid = GridSearchCV(xgb, params0, verbose=True, scoring = 'roc_auc', n_jobs = 2, cv = 2)\n",
    "xgb.fit(X_train, y_train, eval_metric=\"auc\", eval_set=eval_set, verbose=True, early_stopping_rounds=10)\n",
    "y_pred = xgb.predict_proba(X_test)[:,1]\n",
    "print('AUC-ROC:',roc_auc_score(y_test, y_pred))\n",
    "#print(xgb.best_score_)\n",
    "#print(xgb.best_params_)"
   ]
  },
  {
   "cell_type": "code",
   "execution_count": null,
   "metadata": {},
   "outputs": [],
   "source": [
    "# Пробовал mean-target кодирование для признаков Date-Origin и Date-Dest,\n",
    "#      качество сильно упало, код оставил на всякий случай, на будущее \n",
    "# New features: Month-Day-Origin and Month-Day-Destination, encoded as mean tareget with regularization\n",
    "data = df.copy()\n",
    "data['DateOrigin'] = data['Month'] + data['DayofMonth'] + data['Origin']\n",
    "data['DateDest'] = data['Month'] + data['DayofMonth'] + data['Dest']\n",
    "data['dep_delayed_15min'] = data['dep_delayed_15min'].map({'Y': 1, 'N': 0}).values\n",
    "y = data['dep_delayed_15min']\n",
    "data = data.drop(columns=['Origin'])\n",
    "\n",
    "data_train, data_test, y_train, y_test = train_test_split(data, y, test_size=0.3)\n",
    "\n",
    "# for encoding use only train samples in order to prevent knowledge leaking\n",
    "C = 1\n",
    "y_rate = data_train['dep_delayed_15min'].sum() / len(data_train)\n",
    "\n",
    "for encoding_feature in ['DateOrigin', 'DateDest']:\n",
    "    counts = data_train.groupby(encoding_feature).size()\n",
    "    y_counts = data_train.groupby(encoding_feature)['dep_delayed_15min'].value_counts()[:,1]\n",
    "\n",
    "    encoding_df_temp = pd.DataFrame(counts).join(pd.DataFrame(y_counts), on=encoding_feature, how='left').fillna(0)\n",
    "    encoding_df_temp.columns = ['Count', '1_count']\n",
    "    encoding_df_temp = pd.DataFrame((encoding_df_temp['1_count'] + C * y_rate)/ (encoding_df_temp['Count'] + C))\n",
    "    encoding_df_temp.columns = [encoding_feature + 'Mean']\n",
    "    \n",
    "    data_train = data_train.join(encoding_df_temp, on=encoding_feature, how='left')\n",
    "    data_test = data_test.join(encoding_df_temp, on=encoding_feature, how='left')\n",
    "    data_test = data_test.fillna(0)\n",
    "\n",
    "print(data_train.head())\n",
    "X_train = data_train.drop(columns=['dep_delayed_15min', 'DateOrigin', 'DateDest', 'DayofMonth', 'Month'])\n",
    "X_test = data_test.drop(columns=['dep_delayed_15min', 'DateOrigin', 'DateDest', 'DayofMonth', 'Month'])\n",
    "X_train = pd.get_dummies(X_train)\n",
    "X_test = pd.get_dummies(X_test)"
   ]
  }
 ],
 "metadata": {
  "colab": {
   "name": "Assignment08.ipynb",
   "provenance": []
  },
  "kernelspec": {
   "display_name": "Python 3",
   "language": "python",
   "name": "python3"
  },
  "language_info": {
   "codemirror_mode": {
    "name": "ipython",
    "version": 3
   },
   "file_extension": ".py",
   "mimetype": "text/x-python",
   "name": "python",
   "nbconvert_exporter": "python",
   "pygments_lexer": "ipython3",
   "version": "3.7.3"
  }
 },
 "nbformat": 4,
 "nbformat_minor": 1
}
