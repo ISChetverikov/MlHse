{
  "nbformat": 4,
  "nbformat_minor": 0,
  "metadata": {
    "colab": {
      "name": "Task08.ipynb",
      "provenance": [],
      "collapsed_sections": []
    },
    "kernelspec": {
      "name": "python3",
      "display_name": "Python 3"
    }
  },
  "cells": [
    {
      "cell_type": "code",
      "metadata": {
        "id": "jRQ7gbS5DRge",
        "colab_type": "code",
        "outputId": "a1967007-05c2-46e6-ba17-fedafbc80aeb",
        "colab": {
          "base_uri": "https://localhost:8080/",
          "height": 272
        }
      },
      "source": [
        "!pip install pandasql"
      ],
      "execution_count": 0,
      "outputs": [
        {
          "output_type": "stream",
          "text": [
            "Collecting pandasql\n",
            "  Downloading https://files.pythonhosted.org/packages/6b/c4/ee4096ffa2eeeca0c749b26f0371bd26aa5c8b611c43de99a4f86d3de0a7/pandasql-0.7.3.tar.gz\n",
            "Requirement already satisfied: numpy in /usr/local/lib/python3.6/dist-packages (from pandasql) (1.18.2)\n",
            "Requirement already satisfied: pandas in /usr/local/lib/python3.6/dist-packages (from pandasql) (0.25.3)\n",
            "Requirement already satisfied: sqlalchemy in /usr/local/lib/python3.6/dist-packages (from pandasql) (1.3.15)\n",
            "Requirement already satisfied: pytz>=2017.2 in /usr/local/lib/python3.6/dist-packages (from pandas->pandasql) (2018.9)\n",
            "Requirement already satisfied: python-dateutil>=2.6.1 in /usr/local/lib/python3.6/dist-packages (from pandas->pandasql) (2.8.1)\n",
            "Requirement already satisfied: six>=1.5 in /usr/local/lib/python3.6/dist-packages (from python-dateutil>=2.6.1->pandas->pandasql) (1.12.0)\n",
            "Building wheels for collected packages: pandasql\n",
            "  Building wheel for pandasql (setup.py) ... \u001b[?25l\u001b[?25hdone\n",
            "  Created wheel for pandasql: filename=pandasql-0.7.3-cp36-none-any.whl size=26819 sha256=72fe059d76ae58c825585ae03695f097fab18b7148bc388b92af71f1ff61a7d2\n",
            "  Stored in directory: /root/.cache/pip/wheels/53/6c/18/b87a2e5fa8a82e9c026311de56210b8d1c01846e18a9607fc9\n",
            "Successfully built pandasql\n",
            "Installing collected packages: pandasql\n",
            "Successfully installed pandasql-0.7.3\n"
          ],
          "name": "stdout"
        }
      ]
    },
    {
      "cell_type": "code",
      "metadata": {
        "id": "xlDqe--ffTiW",
        "colab_type": "code",
        "colab": {}
      },
      "source": [
        "import numpy as np\n",
        "import pandas as pd\n",
        "from sklearn.preprocessing import StandardScaler\n",
        "from sklearn.model_selection import train_test_split\n",
        "from sklearn.linear_model import LogisticRegression\n",
        "from xgboost import XGBClassifier\n",
        "from sklearn.metrics import roc_auc_score\n",
        "from sklearn.ensemble import RandomForestClassifier\n",
        "from sklearn.model_selection import GridSearchCV\n",
        "from sklearn.preprocessing import OneHotEncoder\n",
        "from pandasql import sqldf\n",
        "from sklearn.ensemble import StackingClassifier"
      ],
      "execution_count": 0,
      "outputs": []
    },
    {
      "cell_type": "code",
      "metadata": {
        "id": "4vgPmYnzgQCl",
        "colab_type": "code",
        "outputId": "ae493a70-11f6-41b4-ab6c-2060909744d8",
        "colab": {
          "base_uri": "https://localhost:8080/",
          "height": 204
        }
      },
      "source": [
        "df = pd.read_csv('/content/drive/My Drive/Datasets/flight_delays.csv')\n",
        "df.head()"
      ],
      "execution_count": 47,
      "outputs": [
        {
          "output_type": "execute_result",
          "data": {
            "text/html": [
              "<div>\n",
              "<style scoped>\n",
              "    .dataframe tbody tr th:only-of-type {\n",
              "        vertical-align: middle;\n",
              "    }\n",
              "\n",
              "    .dataframe tbody tr th {\n",
              "        vertical-align: top;\n",
              "    }\n",
              "\n",
              "    .dataframe thead th {\n",
              "        text-align: right;\n",
              "    }\n",
              "</style>\n",
              "<table border=\"1\" class=\"dataframe\">\n",
              "  <thead>\n",
              "    <tr style=\"text-align: right;\">\n",
              "      <th></th>\n",
              "      <th>Month</th>\n",
              "      <th>DayofMonth</th>\n",
              "      <th>DayOfWeek</th>\n",
              "      <th>DepTime</th>\n",
              "      <th>UniqueCarrier</th>\n",
              "      <th>Origin</th>\n",
              "      <th>Dest</th>\n",
              "      <th>Distance</th>\n",
              "      <th>dep_delayed_15min</th>\n",
              "    </tr>\n",
              "  </thead>\n",
              "  <tbody>\n",
              "    <tr>\n",
              "      <th>0</th>\n",
              "      <td>c-8</td>\n",
              "      <td>c-21</td>\n",
              "      <td>c-7</td>\n",
              "      <td>1934</td>\n",
              "      <td>AA</td>\n",
              "      <td>ATL</td>\n",
              "      <td>DFW</td>\n",
              "      <td>732</td>\n",
              "      <td>N</td>\n",
              "    </tr>\n",
              "    <tr>\n",
              "      <th>1</th>\n",
              "      <td>c-4</td>\n",
              "      <td>c-20</td>\n",
              "      <td>c-3</td>\n",
              "      <td>1548</td>\n",
              "      <td>US</td>\n",
              "      <td>PIT</td>\n",
              "      <td>MCO</td>\n",
              "      <td>834</td>\n",
              "      <td>N</td>\n",
              "    </tr>\n",
              "    <tr>\n",
              "      <th>2</th>\n",
              "      <td>c-9</td>\n",
              "      <td>c-2</td>\n",
              "      <td>c-5</td>\n",
              "      <td>1422</td>\n",
              "      <td>XE</td>\n",
              "      <td>RDU</td>\n",
              "      <td>CLE</td>\n",
              "      <td>416</td>\n",
              "      <td>N</td>\n",
              "    </tr>\n",
              "    <tr>\n",
              "      <th>3</th>\n",
              "      <td>c-11</td>\n",
              "      <td>c-25</td>\n",
              "      <td>c-6</td>\n",
              "      <td>1015</td>\n",
              "      <td>OO</td>\n",
              "      <td>DEN</td>\n",
              "      <td>MEM</td>\n",
              "      <td>872</td>\n",
              "      <td>N</td>\n",
              "    </tr>\n",
              "    <tr>\n",
              "      <th>4</th>\n",
              "      <td>c-10</td>\n",
              "      <td>c-7</td>\n",
              "      <td>c-6</td>\n",
              "      <td>1828</td>\n",
              "      <td>WN</td>\n",
              "      <td>MDW</td>\n",
              "      <td>OMA</td>\n",
              "      <td>423</td>\n",
              "      <td>Y</td>\n",
              "    </tr>\n",
              "  </tbody>\n",
              "</table>\n",
              "</div>"
            ],
            "text/plain": [
              "  Month DayofMonth DayOfWeek  DepTime  ... Origin Dest Distance  dep_delayed_15min\n",
              "0   c-8       c-21       c-7     1934  ...    ATL  DFW      732                  N\n",
              "1   c-4       c-20       c-3     1548  ...    PIT  MCO      834                  N\n",
              "2   c-9        c-2       c-5     1422  ...    RDU  CLE      416                  N\n",
              "3  c-11       c-25       c-6     1015  ...    DEN  MEM      872                  N\n",
              "4  c-10        c-7       c-6     1828  ...    MDW  OMA      423                  Y\n",
              "\n",
              "[5 rows x 9 columns]"
            ]
          },
          "metadata": {
            "tags": []
          },
          "execution_count": 47
        }
      ]
    },
    {
      "cell_type": "code",
      "metadata": {
        "id": "N4DXECtkgaat",
        "colab_type": "code",
        "outputId": "d06831e2-9dbf-4048-b944-940d5038084a",
        "colab": {
          "base_uri": "https://localhost:8080/",
          "height": 34
        }
      },
      "source": [
        "X, y = df[['Distance', 'DepTime']].values, df['dep_delayed_15min'].map({'Y': 1, 'N': 0}).values\n",
        "X_train, X_test, y_train, y_test = train_test_split(X,y,test_size=0.3, random_state=17)\n",
        "lr = LogisticRegression( solver='lbfgs',random_state=17)\n",
        "\n",
        "lr.fit(X_train, y_train)\n",
        "y_pred = lr.predict_proba(X_test)[:, 1]\n",
        "\n",
        "print('AUC-ROC:',roc_auc_score(y_test, y_pred))"
      ],
      "execution_count": 48,
      "outputs": [
        {
          "output_type": "stream",
          "text": [
            "AUC-ROC: 0.6795697123357751\n"
          ],
          "name": "stdout"
        }
      ]
    },
    {
      "cell_type": "code",
      "metadata": {
        "id": "zNkYNzAmUyua",
        "colab_type": "code",
        "outputId": "6bf04faa-c3cf-40bc-b562-3dbca8c141de",
        "colab": {
          "base_uri": "https://localhost:8080/",
          "height": 221
        }
      },
      "source": [
        "# df.isna().sum() - нет нанов\n",
        "# Добавление маршрута сильно увеличивает количество категориальных признаков при ван хот кодировании \n",
        "X = df.copy()\n",
        "y = X.loc[:,'dep_delayed_15min'] = X['dep_delayed_15min'].map({'Y': 1, 'N': 0}).values\n",
        "\n",
        "# Предотвращаем Knowledge leaking\n",
        "X_train, X_test, y_train, y_test = train_test_split(X, y, test_size=0.3)\n",
        "\n",
        "# попробум построить признак День-Месяц-Вылет(Прилет) со значениями частоты задержки, причем значения расчитываем по трейну\n",
        "X_train.loc[:,'DateOrigin'] = X_train['Month'] + X_train['DayofMonth'] + X_train['Origin']\n",
        "X_train.loc[:,'DateDest'] = X_train['Month'] + X_train['DayofMonth'] + X_train['Dest']\n",
        "X_test.loc[:,'DateOrigin'] = X_test['Month'] + X_test['DayofMonth'] + X_test['Origin']\n",
        "X_test.loc[:,'DateDest'] = X_test['Month'] + X_test['DayofMonth'] + X_test['Dest']\n",
        "\n",
        "for encoding_feature in ['DateOrigin', 'DateDest']:\n",
        "    counts = X_train.groupby(encoding_feature).size()\n",
        "    y_counts = X_train.groupby(encoding_feature)['dep_delayed_15min'].value_counts()[:,1]\n",
        "\n",
        "    temp = pd.DataFrame(counts).join(pd.DataFrame(y_counts), on=encoding_feature, how='left').fillna(0)\n",
        "    temp.columns = ['Count', '1_count']\n",
        "    temp = pd.DataFrame(temp['1_count'] / temp['Count'])\n",
        "    temp.applymap(lambda x: np.piecewise(x, [x <= 0, 0 < x < 0.25, 0.25 <= x < 0.5, 0.5 <= x < 0.75, x >= 0.75], [0, 1, 2, 3, 4]))\n",
        "    temp.columns = [encoding_feature + 'Mean']\n",
        "    \n",
        "    X_train = X_train.join(temp, on=encoding_feature, how='left')\n",
        "    X_test = X_test.join(temp, on=encoding_feature, how='left')\n",
        "    X_test = X_test.fillna(0)\n",
        "\n",
        "X_train = X_train.drop(columns=['dep_delayed_15min', 'DateOrigin', 'DateDest'])\n",
        "X_test = X_test.drop(columns=['dep_delayed_15min', 'DateOrigin', 'DateDest'])\n",
        "\n",
        "X_dummies = pd.concat([X_train, X_test], sort = False)\n",
        "\n",
        "n_train = len(X_train)\n",
        "n_test = len(X_test)\n",
        "\n",
        "X_dummies = pd.get_dummies(X_dummies)\n",
        "\n",
        "X_train = X_dummies.head(n_train)\n",
        "X_test = X_dummies.tail(n_test)\n",
        "# Пробовал  - качество сильно падает - не используем\n",
        "X_train = X_train.drop(columns=['DateOriginMean', 'DateDestMean'])\n",
        "X_test = X_test.drop(columns=['DateOriginMean', 'DateDestMean'])"
      ],
      "execution_count": 49,
      "outputs": [
        {
          "output_type": "stream",
          "text": [
            "/usr/local/lib/python3.6/dist-packages/pandas/core/indexing.py:376: SettingWithCopyWarning: \n",
            "A value is trying to be set on a copy of a slice from a DataFrame.\n",
            "Try using .loc[row_indexer,col_indexer] = value instead\n",
            "\n",
            "See the caveats in the documentation: http://pandas.pydata.org/pandas-docs/stable/user_guide/indexing.html#returning-a-view-versus-a-copy\n",
            "  self.obj[key] = _infer_fill_value(value)\n",
            "/usr/local/lib/python3.6/dist-packages/pandas/core/indexing.py:494: SettingWithCopyWarning: \n",
            "A value is trying to be set on a copy of a slice from a DataFrame.\n",
            "Try using .loc[row_indexer,col_indexer] = value instead\n",
            "\n",
            "See the caveats in the documentation: http://pandas.pydata.org/pandas-docs/stable/user_guide/indexing.html#returning-a-view-versus-a-copy\n",
            "  self.obj[item] = s\n"
          ],
          "name": "stderr"
        }
      ]
    },
    {
      "cell_type": "code",
      "metadata": {
        "id": "dGR-Pqg4nRTn",
        "colab_type": "code",
        "outputId": "8af8b409-cb80-4660-8609-9fe216f72a6c",
        "colab": {
          "base_uri": "https://localhost:8080/",
          "height": 901
        }
      },
      "source": [
        "# Долго и кропотливо подбираем параметры\n",
        "eval_set = [(X_test, y_test)]\n",
        "xgb = XGBClassifier(\n",
        "    gamma=0,\n",
        "    subsample=0.8,\n",
        "    colsample_bytree=0.8,\n",
        "    learning_rate =0.1,\n",
        "    n_estimators=50,\n",
        "    max_depth=5,\n",
        "    min_child_weight=1,\n",
        "    scale_pos_weight=1)\n",
        "\n",
        "xgb.fit(X_train, y_train, eval_metric=\"auc\", eval_set=eval_set, verbose=True, early_stopping_rounds=10)\n",
        "y_pred = xgb.predict_proba(X_test)[:,1]\n",
        "print('AUC-ROC:', roc_auc_score(y_test, y_pred))\n",
        "#pd.DataFrame(zip(xgb.feature_importances_, X.columns)).sort_values(by=0, ascending=False).head(20)"
      ],
      "execution_count": 0,
      "outputs": [
        {
          "output_type": "stream",
          "text": [
            "[0]\tvalidation_0-auc:0.690378\n",
            "Will train until validation_0-auc hasn't improved in 10 rounds.\n",
            "[1]\tvalidation_0-auc:0.694522\n",
            "[2]\tvalidation_0-auc:0.699313\n",
            "[3]\tvalidation_0-auc:0.701177\n",
            "[4]\tvalidation_0-auc:0.703585\n",
            "[5]\tvalidation_0-auc:0.704943\n",
            "[6]\tvalidation_0-auc:0.707461\n",
            "[7]\tvalidation_0-auc:0.70877\n",
            "[8]\tvalidation_0-auc:0.708728\n",
            "[9]\tvalidation_0-auc:0.708468\n",
            "[10]\tvalidation_0-auc:0.708023\n",
            "[11]\tvalidation_0-auc:0.708074\n",
            "[12]\tvalidation_0-auc:0.707822\n",
            "[13]\tvalidation_0-auc:0.707663\n",
            "[14]\tvalidation_0-auc:0.707969\n",
            "[15]\tvalidation_0-auc:0.708439\n",
            "[16]\tvalidation_0-auc:0.70867\n",
            "[17]\tvalidation_0-auc:0.70931\n",
            "[18]\tvalidation_0-auc:0.709447\n",
            "[19]\tvalidation_0-auc:0.709879\n",
            "[20]\tvalidation_0-auc:0.710395\n",
            "[21]\tvalidation_0-auc:0.710777\n",
            "[22]\tvalidation_0-auc:0.711288\n",
            "[23]\tvalidation_0-auc:0.711655\n",
            "[24]\tvalidation_0-auc:0.711812\n",
            "[25]\tvalidation_0-auc:0.712049\n",
            "[26]\tvalidation_0-auc:0.712067\n",
            "[27]\tvalidation_0-auc:0.712438\n",
            "[28]\tvalidation_0-auc:0.712701\n",
            "[29]\tvalidation_0-auc:0.712829\n",
            "[30]\tvalidation_0-auc:0.713\n",
            "[31]\tvalidation_0-auc:0.713509\n",
            "[32]\tvalidation_0-auc:0.713778\n",
            "[33]\tvalidation_0-auc:0.714217\n",
            "[34]\tvalidation_0-auc:0.714633\n",
            "[35]\tvalidation_0-auc:0.715016\n",
            "[36]\tvalidation_0-auc:0.71562\n",
            "[37]\tvalidation_0-auc:0.716074\n",
            "[38]\tvalidation_0-auc:0.716284\n",
            "[39]\tvalidation_0-auc:0.716797\n",
            "[40]\tvalidation_0-auc:0.716828\n",
            "[41]\tvalidation_0-auc:0.71703\n",
            "[42]\tvalidation_0-auc:0.717396\n",
            "[43]\tvalidation_0-auc:0.717732\n",
            "[44]\tvalidation_0-auc:0.717852\n",
            "[45]\tvalidation_0-auc:0.718221\n",
            "[46]\tvalidation_0-auc:0.718574\n",
            "[47]\tvalidation_0-auc:0.718858\n",
            "[48]\tvalidation_0-auc:0.718907\n",
            "[49]\tvalidation_0-auc:0.719541\n",
            "AUC-ROC: 0.7195406060333703\n"
          ],
          "name": "stdout"
        }
      ]
    },
    {
      "cell_type": "code",
      "metadata": {
        "id": "CbbTZH9bXpPS",
        "colab_type": "code",
        "outputId": "41b3b318-3127-4c0b-e21f-877e6d2fa07e",
        "colab": {
          "base_uri": "https://localhost:8080/",
          "height": 952
        }
      },
      "source": [
        "xgb_best = xgb\n",
        "\n",
        "param1 = {\n",
        " 'max_depth':range(3, 10, 2),\n",
        " 'min_child_weight':range(1, 6, 2)\n",
        "}\n",
        "xgb_grid = GridSearchCV(xgb_best, param1, verbose=True, scoring = 'roc_auc', n_jobs=6, cv = 2)\n",
        "xgb_grid.fit(X_train, y_train, eval_metric=\"auc\", eval_set=eval_set, verbose=True, early_stopping_rounds=10)\n",
        "y_pred = xgb_grid.predict_proba(X_test)[:,1]\n",
        "print('AUC-ROC:', roc_auc_score(y_test, y_pred))"
      ],
      "execution_count": 0,
      "outputs": [
        {
          "output_type": "stream",
          "text": [
            "Fitting 2 folds for each of 12 candidates, totalling 24 fits\n"
          ],
          "name": "stdout"
        },
        {
          "output_type": "stream",
          "text": [
            "[Parallel(n_jobs=6)]: Using backend LokyBackend with 6 concurrent workers.\n",
            "[Parallel(n_jobs=6)]: Done  24 out of  24 | elapsed: 15.1min finished\n"
          ],
          "name": "stderr"
        },
        {
          "output_type": "stream",
          "text": [
            "[0]\tvalidation_0-auc:0.698452\n",
            "Will train until validation_0-auc hasn't improved in 10 rounds.\n",
            "[1]\tvalidation_0-auc:0.700652\n",
            "[2]\tvalidation_0-auc:0.709302\n",
            "[3]\tvalidation_0-auc:0.711336\n",
            "[4]\tvalidation_0-auc:0.71286\n",
            "[5]\tvalidation_0-auc:0.71458\n",
            "[6]\tvalidation_0-auc:0.716935\n",
            "[7]\tvalidation_0-auc:0.71772\n",
            "[8]\tvalidation_0-auc:0.717788\n",
            "[9]\tvalidation_0-auc:0.718966\n",
            "[10]\tvalidation_0-auc:0.718969\n",
            "[11]\tvalidation_0-auc:0.719441\n",
            "[12]\tvalidation_0-auc:0.71912\n",
            "[13]\tvalidation_0-auc:0.719242\n",
            "[14]\tvalidation_0-auc:0.719863\n",
            "[15]\tvalidation_0-auc:0.720345\n",
            "[16]\tvalidation_0-auc:0.720482\n",
            "[17]\tvalidation_0-auc:0.721614\n",
            "[18]\tvalidation_0-auc:0.721948\n",
            "[19]\tvalidation_0-auc:0.722556\n",
            "[20]\tvalidation_0-auc:0.723666\n",
            "[21]\tvalidation_0-auc:0.72416\n",
            "[22]\tvalidation_0-auc:0.724587\n",
            "[23]\tvalidation_0-auc:0.724683\n",
            "[24]\tvalidation_0-auc:0.725022\n",
            "[25]\tvalidation_0-auc:0.725467\n",
            "[26]\tvalidation_0-auc:0.725748\n",
            "[27]\tvalidation_0-auc:0.725846\n",
            "[28]\tvalidation_0-auc:0.726167\n",
            "[29]\tvalidation_0-auc:0.726769\n",
            "[30]\tvalidation_0-auc:0.72719\n",
            "[31]\tvalidation_0-auc:0.72739\n",
            "[32]\tvalidation_0-auc:0.727837\n",
            "[33]\tvalidation_0-auc:0.727981\n",
            "[34]\tvalidation_0-auc:0.728088\n",
            "[35]\tvalidation_0-auc:0.728564\n",
            "[36]\tvalidation_0-auc:0.728927\n",
            "[37]\tvalidation_0-auc:0.729416\n",
            "[38]\tvalidation_0-auc:0.729868\n",
            "[39]\tvalidation_0-auc:0.730269\n",
            "[40]\tvalidation_0-auc:0.730586\n",
            "[41]\tvalidation_0-auc:0.730761\n",
            "[42]\tvalidation_0-auc:0.730896\n",
            "[43]\tvalidation_0-auc:0.73131\n",
            "[44]\tvalidation_0-auc:0.731652\n",
            "[45]\tvalidation_0-auc:0.73166\n",
            "[46]\tvalidation_0-auc:0.731748\n",
            "[47]\tvalidation_0-auc:0.732113\n",
            "[48]\tvalidation_0-auc:0.732242\n",
            "[49]\tvalidation_0-auc:0.732394\n",
            "AUC-ROC: 0.7323936116892265\n"
          ],
          "name": "stdout"
        }
      ]
    },
    {
      "cell_type": "code",
      "metadata": {
        "id": "91Lt24eAsh3r",
        "colab_type": "code",
        "outputId": "8bd50aad-43b0-47d6-a5d1-bc8fd2e6a95e",
        "colab": {
          "base_uri": "https://localhost:8080/",
          "height": 34
        }
      },
      "source": [
        " xgb_grid.best_params_"
      ],
      "execution_count": 0,
      "outputs": [
        {
          "output_type": "execute_result",
          "data": {
            "text/plain": [
              "{'max_depth': 9, 'min_child_weight': 1}"
            ]
          },
          "metadata": {
            "tags": []
          },
          "execution_count": 28
        }
      ]
    },
    {
      "cell_type": "code",
      "metadata": {
        "id": "s7v1m88lJ2uE",
        "colab_type": "code",
        "outputId": "1735b804-80d8-4796-bb4e-94cd25ab03c6",
        "colab": {
          "base_uri": "https://localhost:8080/",
          "height": 986
        }
      },
      "source": [
        "param1 = {\n",
        " 'max_depth':[9,10],\n",
        " 'min_child_weight':[1,2]\n",
        "}\n",
        "xgb_grid = GridSearchCV(xgb_best, param1, verbose=True, scoring = 'roc_auc', n_jobs=6, cv = 2)\n",
        "xgb_grid.fit(X_train, y_train, eval_metric=\"auc\", eval_set=eval_set, verbose=True, early_stopping_rounds=10)\n",
        "y_pred = xgb_grid.predict_proba(X_test)[:,1]\n",
        "print('AUC-ROC:', roc_auc_score(y_test, y_pred))\n",
        "print(xgb_grid.best_params_)"
      ],
      "execution_count": 0,
      "outputs": [
        {
          "output_type": "stream",
          "text": [
            "Fitting 2 folds for each of 4 candidates, totalling 8 fits\n"
          ],
          "name": "stdout"
        },
        {
          "output_type": "stream",
          "text": [
            "[Parallel(n_jobs=6)]: Using backend LokyBackend with 6 concurrent workers.\n",
            "[Parallel(n_jobs=6)]: Done   6 out of   8 | elapsed:  7.1min remaining:  2.4min\n",
            "[Parallel(n_jobs=6)]: Done   8 out of   8 | elapsed:  7.3min finished\n"
          ],
          "name": "stderr"
        },
        {
          "output_type": "stream",
          "text": [
            "[0]\tvalidation_0-auc:0.697351\n",
            "Will train until validation_0-auc hasn't improved in 10 rounds.\n",
            "[1]\tvalidation_0-auc:0.699445\n",
            "[2]\tvalidation_0-auc:0.711451\n",
            "[3]\tvalidation_0-auc:0.714769\n",
            "[4]\tvalidation_0-auc:0.716875\n",
            "[5]\tvalidation_0-auc:0.719173\n",
            "[6]\tvalidation_0-auc:0.720808\n",
            "[7]\tvalidation_0-auc:0.721199\n",
            "[8]\tvalidation_0-auc:0.721188\n",
            "[9]\tvalidation_0-auc:0.722347\n",
            "[10]\tvalidation_0-auc:0.722482\n",
            "[11]\tvalidation_0-auc:0.723072\n",
            "[12]\tvalidation_0-auc:0.723008\n",
            "[13]\tvalidation_0-auc:0.723456\n",
            "[14]\tvalidation_0-auc:0.724093\n",
            "[15]\tvalidation_0-auc:0.72444\n",
            "[16]\tvalidation_0-auc:0.724388\n",
            "[17]\tvalidation_0-auc:0.725497\n",
            "[18]\tvalidation_0-auc:0.725675\n",
            "[19]\tvalidation_0-auc:0.726254\n",
            "[20]\tvalidation_0-auc:0.72673\n",
            "[21]\tvalidation_0-auc:0.72686\n",
            "[22]\tvalidation_0-auc:0.727537\n",
            "[23]\tvalidation_0-auc:0.727807\n",
            "[24]\tvalidation_0-auc:0.728107\n",
            "[25]\tvalidation_0-auc:0.728511\n",
            "[26]\tvalidation_0-auc:0.728549\n",
            "[27]\tvalidation_0-auc:0.728823\n",
            "[28]\tvalidation_0-auc:0.728896\n",
            "[29]\tvalidation_0-auc:0.729112\n",
            "[30]\tvalidation_0-auc:0.729368\n",
            "[31]\tvalidation_0-auc:0.72978\n",
            "[32]\tvalidation_0-auc:0.730231\n",
            "[33]\tvalidation_0-auc:0.730373\n",
            "[34]\tvalidation_0-auc:0.730321\n",
            "[35]\tvalidation_0-auc:0.730869\n",
            "[36]\tvalidation_0-auc:0.731371\n",
            "[37]\tvalidation_0-auc:0.73206\n",
            "[38]\tvalidation_0-auc:0.732556\n",
            "[39]\tvalidation_0-auc:0.732986\n",
            "[40]\tvalidation_0-auc:0.733058\n",
            "[41]\tvalidation_0-auc:0.733329\n",
            "[42]\tvalidation_0-auc:0.733388\n",
            "[43]\tvalidation_0-auc:0.733836\n",
            "[44]\tvalidation_0-auc:0.733926\n",
            "[45]\tvalidation_0-auc:0.733904\n",
            "[46]\tvalidation_0-auc:0.734247\n",
            "[47]\tvalidation_0-auc:0.734423\n",
            "[48]\tvalidation_0-auc:0.734541\n",
            "[49]\tvalidation_0-auc:0.734797\n",
            "AUC-ROC: 0.7347969481111627\n",
            "{'max_depth': 10, 'min_child_weight': 2}\n"
          ],
          "name": "stdout"
        }
      ]
    },
    {
      "cell_type": "code",
      "metadata": {
        "id": "gpQoEK88Kw5n",
        "colab_type": "code",
        "outputId": "ee8316d3-1774-4937-a6d3-1680b2a59e95",
        "colab": {
          "base_uri": "https://localhost:8080/",
          "height": 986
        }
      },
      "source": [
        "xgb_best = XGBClassifier(\n",
        "    gamma=0,\n",
        "    subsample=0.8,\n",
        "    colsample_bytree=0.8,\n",
        "    learning_rate =0.1,\n",
        "    n_estimators=50,\n",
        "    max_depth=10,\n",
        "    min_child_weight=2,\n",
        "    scale_pos_weight=1)\n",
        "\n",
        "param2 = {\n",
        " 'gamma':[i/10.0 for i in range(0,5)]\n",
        "}\n",
        "xgb_grid = GridSearchCV(xgb_best, param2, verbose=True, scoring = 'roc_auc', n_jobs=6, cv = 2)\n",
        "xgb_grid.fit(X_train, y_train, eval_metric=\"auc\", eval_set=eval_set, verbose=True, early_stopping_rounds=10)\n",
        "y_pred = xgb_grid.predict_proba(X_test)[:,1]\n",
        "print('AUC-ROC:', roc_auc_score(y_test, y_pred))\n",
        "print(xgb_grid.best_params_)"
      ],
      "execution_count": 0,
      "outputs": [
        {
          "output_type": "stream",
          "text": [
            "Fitting 2 folds for each of 5 candidates, totalling 10 fits\n"
          ],
          "name": "stdout"
        },
        {
          "output_type": "stream",
          "text": [
            "[Parallel(n_jobs=6)]: Using backend LokyBackend with 6 concurrent workers.\n",
            "[Parallel(n_jobs=6)]: Done  10 out of  10 | elapsed:  9.6min remaining:    0.0s\n",
            "[Parallel(n_jobs=6)]: Done  10 out of  10 | elapsed:  9.6min finished\n"
          ],
          "name": "stderr"
        },
        {
          "output_type": "stream",
          "text": [
            "[0]\tvalidation_0-auc:0.697351\n",
            "Will train until validation_0-auc hasn't improved in 10 rounds.\n",
            "[1]\tvalidation_0-auc:0.699445\n",
            "[2]\tvalidation_0-auc:0.711451\n",
            "[3]\tvalidation_0-auc:0.714769\n",
            "[4]\tvalidation_0-auc:0.716875\n",
            "[5]\tvalidation_0-auc:0.719173\n",
            "[6]\tvalidation_0-auc:0.720808\n",
            "[7]\tvalidation_0-auc:0.721199\n",
            "[8]\tvalidation_0-auc:0.721188\n",
            "[9]\tvalidation_0-auc:0.722347\n",
            "[10]\tvalidation_0-auc:0.722482\n",
            "[11]\tvalidation_0-auc:0.723072\n",
            "[12]\tvalidation_0-auc:0.723008\n",
            "[13]\tvalidation_0-auc:0.723456\n",
            "[14]\tvalidation_0-auc:0.724093\n",
            "[15]\tvalidation_0-auc:0.72444\n",
            "[16]\tvalidation_0-auc:0.724388\n",
            "[17]\tvalidation_0-auc:0.725497\n",
            "[18]\tvalidation_0-auc:0.725675\n",
            "[19]\tvalidation_0-auc:0.726254\n",
            "[20]\tvalidation_0-auc:0.72673\n",
            "[21]\tvalidation_0-auc:0.72686\n",
            "[22]\tvalidation_0-auc:0.727537\n",
            "[23]\tvalidation_0-auc:0.727807\n",
            "[24]\tvalidation_0-auc:0.728107\n",
            "[25]\tvalidation_0-auc:0.728511\n",
            "[26]\tvalidation_0-auc:0.728549\n",
            "[27]\tvalidation_0-auc:0.728823\n",
            "[28]\tvalidation_0-auc:0.728896\n",
            "[29]\tvalidation_0-auc:0.729112\n",
            "[30]\tvalidation_0-auc:0.729368\n",
            "[31]\tvalidation_0-auc:0.72978\n",
            "[32]\tvalidation_0-auc:0.730231\n",
            "[33]\tvalidation_0-auc:0.730373\n",
            "[34]\tvalidation_0-auc:0.730321\n",
            "[35]\tvalidation_0-auc:0.730869\n",
            "[36]\tvalidation_0-auc:0.731371\n",
            "[37]\tvalidation_0-auc:0.73206\n",
            "[38]\tvalidation_0-auc:0.732556\n",
            "[39]\tvalidation_0-auc:0.732986\n",
            "[40]\tvalidation_0-auc:0.733058\n",
            "[41]\tvalidation_0-auc:0.733329\n",
            "[42]\tvalidation_0-auc:0.733388\n",
            "[43]\tvalidation_0-auc:0.733836\n",
            "[44]\tvalidation_0-auc:0.733926\n",
            "[45]\tvalidation_0-auc:0.733904\n",
            "[46]\tvalidation_0-auc:0.734247\n",
            "[47]\tvalidation_0-auc:0.734423\n",
            "[48]\tvalidation_0-auc:0.734541\n",
            "[49]\tvalidation_0-auc:0.734797\n",
            "AUC-ROC: 0.7347969481111627\n",
            "{'gamma': 0.0}\n"
          ],
          "name": "stdout"
        }
      ]
    },
    {
      "cell_type": "code",
      "metadata": {
        "id": "l4Jw6SGpNlvt",
        "colab_type": "code",
        "outputId": "984ef515-11b2-4843-8235-d359a332c1f7",
        "colab": {
          "base_uri": "https://localhost:8080/",
          "height": 969
        }
      },
      "source": [
        "xgb_best = XGBClassifier(\n",
        "    gamma=0,\n",
        "    subsample=0.8,\n",
        "    colsample_bytree=0.8,\n",
        "    learning_rate =0.1,\n",
        "    n_estimators=50,\n",
        "    max_depth=10,\n",
        "    min_child_weight=2,\n",
        "    scale_pos_weight=1)\n",
        "\n",
        "param3 = {\n",
        " 'subsample':[i/10.0 for i in range(6,10)],\n",
        " 'colsample_bytree':[i/10.0 for i in range(6,10)]\n",
        "}\n",
        "xgb_grid = GridSearchCV(xgb_best, param3, verbose=True, scoring = 'roc_auc', n_jobs=6, cv = 2)\n",
        "xgb_grid.fit(X_train, y_train, eval_metric=\"auc\", eval_set=eval_set, verbose=True, early_stopping_rounds=10)\n",
        "y_pred = xgb_grid.predict_proba(X_test)[:,1]\n",
        "print('AUC-ROC:', roc_auc_score(y_test, y_pred))\n",
        "print(xgb_grid.best_params_)"
      ],
      "execution_count": 0,
      "outputs": [
        {
          "output_type": "stream",
          "text": [
            "Fitting 2 folds for each of 16 candidates, totalling 32 fits\n"
          ],
          "name": "stdout"
        },
        {
          "output_type": "stream",
          "text": [
            "[Parallel(n_jobs=6)]: Using backend LokyBackend with 6 concurrent workers.\n",
            "[Parallel(n_jobs=6)]: Done  32 out of  32 | elapsed: 29.7min finished\n"
          ],
          "name": "stderr"
        },
        {
          "output_type": "stream",
          "text": [
            "[0]\tvalidation_0-auc:0.699743\n",
            "Will train until validation_0-auc hasn't improved in 10 rounds.\n",
            "[1]\tvalidation_0-auc:0.699862\n",
            "[2]\tvalidation_0-auc:0.712994\n",
            "[3]\tvalidation_0-auc:0.714229\n",
            "[4]\tvalidation_0-auc:0.716258\n",
            "[5]\tvalidation_0-auc:0.71675\n",
            "[6]\tvalidation_0-auc:0.719111\n",
            "[7]\tvalidation_0-auc:0.719961\n",
            "[8]\tvalidation_0-auc:0.720785\n",
            "[9]\tvalidation_0-auc:0.720336\n",
            "[10]\tvalidation_0-auc:0.720154\n",
            "[11]\tvalidation_0-auc:0.720402\n",
            "[12]\tvalidation_0-auc:0.72078\n",
            "[13]\tvalidation_0-auc:0.721653\n",
            "[14]\tvalidation_0-auc:0.722259\n",
            "[15]\tvalidation_0-auc:0.722371\n",
            "[16]\tvalidation_0-auc:0.72396\n",
            "[17]\tvalidation_0-auc:0.724783\n",
            "[18]\tvalidation_0-auc:0.725227\n",
            "[19]\tvalidation_0-auc:0.72605\n",
            "[20]\tvalidation_0-auc:0.726565\n",
            "[21]\tvalidation_0-auc:0.727363\n",
            "[22]\tvalidation_0-auc:0.727847\n",
            "[23]\tvalidation_0-auc:0.728592\n",
            "[24]\tvalidation_0-auc:0.728665\n",
            "[25]\tvalidation_0-auc:0.729017\n",
            "[26]\tvalidation_0-auc:0.729319\n",
            "[27]\tvalidation_0-auc:0.730397\n",
            "[28]\tvalidation_0-auc:0.730538\n",
            "[29]\tvalidation_0-auc:0.730842\n",
            "[30]\tvalidation_0-auc:0.731115\n",
            "[31]\tvalidation_0-auc:0.73094\n",
            "[32]\tvalidation_0-auc:0.731133\n",
            "[33]\tvalidation_0-auc:0.73104\n",
            "[34]\tvalidation_0-auc:0.731107\n",
            "[35]\tvalidation_0-auc:0.731269\n",
            "[36]\tvalidation_0-auc:0.731452\n",
            "[37]\tvalidation_0-auc:0.73182\n",
            "[38]\tvalidation_0-auc:0.732042\n",
            "[39]\tvalidation_0-auc:0.732217\n",
            "[40]\tvalidation_0-auc:0.73257\n",
            "[41]\tvalidation_0-auc:0.732697\n",
            "[42]\tvalidation_0-auc:0.733353\n",
            "[43]\tvalidation_0-auc:0.733658\n",
            "[44]\tvalidation_0-auc:0.733839\n",
            "[45]\tvalidation_0-auc:0.734317\n",
            "[46]\tvalidation_0-auc:0.734726\n",
            "[47]\tvalidation_0-auc:0.735049\n",
            "[48]\tvalidation_0-auc:0.735483\n",
            "[49]\tvalidation_0-auc:0.735668\n",
            "AUC-ROC: 0.7356680015558359\n",
            "{'colsample_bytree': 0.7, 'subsample': 0.9}\n"
          ],
          "name": "stdout"
        }
      ]
    },
    {
      "cell_type": "code",
      "metadata": {
        "id": "2Yd_sGoyQyPp",
        "colab_type": "code",
        "colab": {
          "base_uri": "https://localhost:8080/",
          "height": 986
        },
        "outputId": "e2cda624-d504-456a-daa5-ce1bb87b0cba"
      },
      "source": [
        "xgb_best = XGBClassifier(\n",
        "    gamma=0,\n",
        "    subsample=0.9,\n",
        "    colsample_bytree=0.7,\n",
        "    learning_rate =0.1,\n",
        "    n_estimators=50,\n",
        "    max_depth=10,\n",
        "    min_child_weight=2,\n",
        "    scale_pos_weight=1)\n",
        "\n",
        "param4 = {\n",
        " 'reg_alpha':[1e-5, 1e-2, 0.1, 1, 100]\n",
        "}\n",
        "xgb_grid = GridSearchCV(xgb_best, param4, verbose=True, scoring = 'roc_auc', n_jobs=6, cv = 2)\n",
        "xgb_grid.fit(X_train, y_train, eval_metric=\"auc\", eval_set=eval_set, verbose=True, early_stopping_rounds=10)\n",
        "y_pred = xgb_grid.predict_proba(X_test)[:,1]\n",
        "print('AUC-ROC:', roc_auc_score(y_test, y_pred))\n",
        "print(xgb_grid.best_params_)"
      ],
      "execution_count": 34,
      "outputs": [
        {
          "output_type": "stream",
          "text": [
            "Fitting 2 folds for each of 5 candidates, totalling 10 fits\n"
          ],
          "name": "stdout"
        },
        {
          "output_type": "stream",
          "text": [
            "[Parallel(n_jobs=6)]: Using backend LokyBackend with 6 concurrent workers.\n",
            "[Parallel(n_jobs=6)]: Done  10 out of  10 | elapsed:  8.1min remaining:    0.0s\n",
            "[Parallel(n_jobs=6)]: Done  10 out of  10 | elapsed:  8.1min finished\n"
          ],
          "name": "stderr"
        },
        {
          "output_type": "stream",
          "text": [
            "[0]\tvalidation_0-auc:0.699742\n",
            "Will train until validation_0-auc hasn't improved in 10 rounds.\n",
            "[1]\tvalidation_0-auc:0.69993\n",
            "[2]\tvalidation_0-auc:0.713067\n",
            "[3]\tvalidation_0-auc:0.714288\n",
            "[4]\tvalidation_0-auc:0.716309\n",
            "[5]\tvalidation_0-auc:0.716789\n",
            "[6]\tvalidation_0-auc:0.719148\n",
            "[7]\tvalidation_0-auc:0.719994\n",
            "[8]\tvalidation_0-auc:0.720812\n",
            "[9]\tvalidation_0-auc:0.720359\n",
            "[10]\tvalidation_0-auc:0.720175\n",
            "[11]\tvalidation_0-auc:0.72042\n",
            "[12]\tvalidation_0-auc:0.720797\n",
            "[13]\tvalidation_0-auc:0.721669\n",
            "[14]\tvalidation_0-auc:0.722274\n",
            "[15]\tvalidation_0-auc:0.722385\n",
            "[16]\tvalidation_0-auc:0.723975\n",
            "[17]\tvalidation_0-auc:0.724796\n",
            "[18]\tvalidation_0-auc:0.725241\n",
            "[19]\tvalidation_0-auc:0.726064\n",
            "[20]\tvalidation_0-auc:0.726577\n",
            "[21]\tvalidation_0-auc:0.727375\n",
            "[22]\tvalidation_0-auc:0.727859\n",
            "[23]\tvalidation_0-auc:0.728604\n",
            "[24]\tvalidation_0-auc:0.728677\n",
            "[25]\tvalidation_0-auc:0.729029\n",
            "[26]\tvalidation_0-auc:0.729331\n",
            "[27]\tvalidation_0-auc:0.730409\n",
            "[28]\tvalidation_0-auc:0.73055\n",
            "[29]\tvalidation_0-auc:0.730853\n",
            "[30]\tvalidation_0-auc:0.731126\n",
            "[31]\tvalidation_0-auc:0.730951\n",
            "[32]\tvalidation_0-auc:0.731143\n",
            "[33]\tvalidation_0-auc:0.73105\n",
            "[34]\tvalidation_0-auc:0.731116\n",
            "[35]\tvalidation_0-auc:0.731278\n",
            "[36]\tvalidation_0-auc:0.731418\n",
            "[37]\tvalidation_0-auc:0.731782\n",
            "[38]\tvalidation_0-auc:0.732007\n",
            "[39]\tvalidation_0-auc:0.73219\n",
            "[40]\tvalidation_0-auc:0.732542\n",
            "[41]\tvalidation_0-auc:0.732662\n",
            "[42]\tvalidation_0-auc:0.73332\n",
            "[43]\tvalidation_0-auc:0.733627\n",
            "[44]\tvalidation_0-auc:0.73373\n",
            "[45]\tvalidation_0-auc:0.734213\n",
            "[46]\tvalidation_0-auc:0.734612\n",
            "[47]\tvalidation_0-auc:0.734931\n",
            "[48]\tvalidation_0-auc:0.735384\n",
            "[49]\tvalidation_0-auc:0.73571\n",
            "AUC-ROC: 0.7357097879398969\n",
            "{'reg_alpha': 1e-05}\n"
          ],
          "name": "stdout"
        }
      ]
    },
    {
      "cell_type": "code",
      "metadata": {
        "id": "vMc-WbxLY1WC",
        "colab_type": "code",
        "colab": {
          "base_uri": "https://localhost:8080/",
          "height": 986
        },
        "outputId": "29ee8b60-2c28-4357-a1fc-1a924b3d90cd"
      },
      "source": [
        "xgb_best = XGBClassifier(\n",
        "    gamma=0,\n",
        "    subsample=0.9,\n",
        "    colsample_bytree=0.7,\n",
        "    learning_rate =0.1,\n",
        "    n_estimators=50,\n",
        "    max_depth=10,\n",
        "    min_child_weight=2,\n",
        "    scale_pos_weight=1)\n",
        "\n",
        "param4 = {\n",
        " 'reg_lambda':[1e-5, 1e-2, 0.1, 1, 100]\n",
        "}\n",
        "xgb_grid = GridSearchCV(xgb_best, param4, verbose=True, scoring = 'roc_auc', n_jobs=6, cv = 2)\n",
        "xgb_grid.fit(X_train, y_train, eval_metric=\"auc\", eval_set=eval_set, verbose=True, early_stopping_rounds=10)\n",
        "y_pred = xgb_grid.predict_proba(X_test)[:,1]\n",
        "print('AUC-ROC:', roc_auc_score(y_test, y_pred))\n",
        "print(xgb_grid.best_params_)"
      ],
      "execution_count": 35,
      "outputs": [
        {
          "output_type": "stream",
          "text": [
            "Fitting 2 folds for each of 5 candidates, totalling 10 fits\n"
          ],
          "name": "stdout"
        },
        {
          "output_type": "stream",
          "text": [
            "[Parallel(n_jobs=6)]: Using backend LokyBackend with 6 concurrent workers.\n",
            "[Parallel(n_jobs=6)]: Done  10 out of  10 | elapsed:  7.9min remaining:    0.0s\n",
            "[Parallel(n_jobs=6)]: Done  10 out of  10 | elapsed:  7.9min finished\n"
          ],
          "name": "stderr"
        },
        {
          "output_type": "stream",
          "text": [
            "[0]\tvalidation_0-auc:0.699743\n",
            "Will train until validation_0-auc hasn't improved in 10 rounds.\n",
            "[1]\tvalidation_0-auc:0.699862\n",
            "[2]\tvalidation_0-auc:0.712994\n",
            "[3]\tvalidation_0-auc:0.714229\n",
            "[4]\tvalidation_0-auc:0.716258\n",
            "[5]\tvalidation_0-auc:0.71675\n",
            "[6]\tvalidation_0-auc:0.719111\n",
            "[7]\tvalidation_0-auc:0.719961\n",
            "[8]\tvalidation_0-auc:0.720785\n",
            "[9]\tvalidation_0-auc:0.720336\n",
            "[10]\tvalidation_0-auc:0.720154\n",
            "[11]\tvalidation_0-auc:0.720402\n",
            "[12]\tvalidation_0-auc:0.72078\n",
            "[13]\tvalidation_0-auc:0.721653\n",
            "[14]\tvalidation_0-auc:0.722259\n",
            "[15]\tvalidation_0-auc:0.722371\n",
            "[16]\tvalidation_0-auc:0.72396\n",
            "[17]\tvalidation_0-auc:0.724783\n",
            "[18]\tvalidation_0-auc:0.725227\n",
            "[19]\tvalidation_0-auc:0.72605\n",
            "[20]\tvalidation_0-auc:0.726565\n",
            "[21]\tvalidation_0-auc:0.727363\n",
            "[22]\tvalidation_0-auc:0.727847\n",
            "[23]\tvalidation_0-auc:0.728592\n",
            "[24]\tvalidation_0-auc:0.728665\n",
            "[25]\tvalidation_0-auc:0.729017\n",
            "[26]\tvalidation_0-auc:0.729319\n",
            "[27]\tvalidation_0-auc:0.730397\n",
            "[28]\tvalidation_0-auc:0.730538\n",
            "[29]\tvalidation_0-auc:0.730842\n",
            "[30]\tvalidation_0-auc:0.731115\n",
            "[31]\tvalidation_0-auc:0.73094\n",
            "[32]\tvalidation_0-auc:0.731133\n",
            "[33]\tvalidation_0-auc:0.73104\n",
            "[34]\tvalidation_0-auc:0.731107\n",
            "[35]\tvalidation_0-auc:0.731269\n",
            "[36]\tvalidation_0-auc:0.731452\n",
            "[37]\tvalidation_0-auc:0.73182\n",
            "[38]\tvalidation_0-auc:0.732042\n",
            "[39]\tvalidation_0-auc:0.732217\n",
            "[40]\tvalidation_0-auc:0.73257\n",
            "[41]\tvalidation_0-auc:0.732697\n",
            "[42]\tvalidation_0-auc:0.733353\n",
            "[43]\tvalidation_0-auc:0.733658\n",
            "[44]\tvalidation_0-auc:0.733839\n",
            "[45]\tvalidation_0-auc:0.734317\n",
            "[46]\tvalidation_0-auc:0.734726\n",
            "[47]\tvalidation_0-auc:0.735049\n",
            "[48]\tvalidation_0-auc:0.735483\n",
            "[49]\tvalidation_0-auc:0.735668\n",
            "AUC-ROC: 0.7356680015558359\n",
            "{'reg_lambda': 1}\n"
          ],
          "name": "stdout"
        }
      ]
    },
    {
      "cell_type": "code",
      "metadata": {
        "id": "3Nyv_9Fabela",
        "colab_type": "code",
        "colab": {
          "base_uri": "https://localhost:8080/",
          "height": 1000
        },
        "outputId": "7cfe096e-cf6e-40a5-a90a-1c0339f6b9f8"
      },
      "source": [
        "xgb_best = XGBClassifier(\n",
        "    gamma=0,\n",
        "    subsample=0.9,\n",
        "    colsample_bytree=0.7,\n",
        "    learning_rate =0.12,\n",
        "    n_estimators=1000,\n",
        "    max_depth=10,\n",
        "    min_child_weight=2,\n",
        "    scale_pos_weight=1,\n",
        "    reg_lambda=1)\n",
        "\n",
        "xgb_best.fit(X_train, y_train, eval_metric=\"auc\", eval_set=eval_set, verbose=True, early_stopping_rounds=10)\n",
        "y_pred = xgb_best.predict_proba(X_test)[:,1]\n",
        "print('AUC-ROC:', roc_auc_score(y_test, y_pred))"
      ],
      "execution_count": 44,
      "outputs": [
        {
          "output_type": "stream",
          "text": [
            "[0]\tvalidation_0-auc:0.699743\n",
            "Will train until validation_0-auc hasn't improved in 10 rounds.\n",
            "[1]\tvalidation_0-auc:0.699443\n",
            "[2]\tvalidation_0-auc:0.712125\n",
            "[3]\tvalidation_0-auc:0.713943\n",
            "[4]\tvalidation_0-auc:0.716114\n",
            "[5]\tvalidation_0-auc:0.717298\n",
            "[6]\tvalidation_0-auc:0.719641\n",
            "[7]\tvalidation_0-auc:0.720753\n",
            "[8]\tvalidation_0-auc:0.721499\n",
            "[9]\tvalidation_0-auc:0.721767\n",
            "[10]\tvalidation_0-auc:0.72271\n",
            "[11]\tvalidation_0-auc:0.72285\n",
            "[12]\tvalidation_0-auc:0.723409\n",
            "[13]\tvalidation_0-auc:0.724419\n",
            "[14]\tvalidation_0-auc:0.724913\n",
            "[15]\tvalidation_0-auc:0.724863\n",
            "[16]\tvalidation_0-auc:0.726521\n",
            "[17]\tvalidation_0-auc:0.727427\n",
            "[18]\tvalidation_0-auc:0.727437\n",
            "[19]\tvalidation_0-auc:0.728456\n",
            "[20]\tvalidation_0-auc:0.728844\n",
            "[21]\tvalidation_0-auc:0.729621\n",
            "[22]\tvalidation_0-auc:0.730096\n",
            "[23]\tvalidation_0-auc:0.730276\n",
            "[24]\tvalidation_0-auc:0.730863\n",
            "[25]\tvalidation_0-auc:0.73118\n",
            "[26]\tvalidation_0-auc:0.731545\n",
            "[27]\tvalidation_0-auc:0.732045\n",
            "[28]\tvalidation_0-auc:0.732203\n",
            "[29]\tvalidation_0-auc:0.732496\n",
            "[30]\tvalidation_0-auc:0.733024\n",
            "[31]\tvalidation_0-auc:0.733119\n",
            "[32]\tvalidation_0-auc:0.733214\n",
            "[33]\tvalidation_0-auc:0.733699\n",
            "[34]\tvalidation_0-auc:0.733634\n",
            "[35]\tvalidation_0-auc:0.73412\n",
            "[36]\tvalidation_0-auc:0.734091\n",
            "[37]\tvalidation_0-auc:0.734283\n",
            "[38]\tvalidation_0-auc:0.735073\n",
            "[39]\tvalidation_0-auc:0.735325\n",
            "[40]\tvalidation_0-auc:0.735909\n",
            "[41]\tvalidation_0-auc:0.736046\n",
            "[42]\tvalidation_0-auc:0.736741\n",
            "[43]\tvalidation_0-auc:0.737067\n",
            "[44]\tvalidation_0-auc:0.737382\n",
            "[45]\tvalidation_0-auc:0.737511\n",
            "[46]\tvalidation_0-auc:0.737933\n",
            "[47]\tvalidation_0-auc:0.73802\n",
            "[48]\tvalidation_0-auc:0.738388\n",
            "[49]\tvalidation_0-auc:0.738284\n",
            "[50]\tvalidation_0-auc:0.738368\n",
            "[51]\tvalidation_0-auc:0.738394\n",
            "[52]\tvalidation_0-auc:0.738475\n",
            "[53]\tvalidation_0-auc:0.738498\n",
            "[54]\tvalidation_0-auc:0.738521\n",
            "[55]\tvalidation_0-auc:0.738887\n",
            "[56]\tvalidation_0-auc:0.739193\n",
            "[57]\tvalidation_0-auc:0.739423\n",
            "[58]\tvalidation_0-auc:0.739636\n",
            "[59]\tvalidation_0-auc:0.739672\n",
            "[60]\tvalidation_0-auc:0.740062\n",
            "[61]\tvalidation_0-auc:0.740467\n",
            "[62]\tvalidation_0-auc:0.740622\n",
            "[63]\tvalidation_0-auc:0.740674\n",
            "[64]\tvalidation_0-auc:0.740737\n",
            "[65]\tvalidation_0-auc:0.740816\n",
            "[66]\tvalidation_0-auc:0.740804\n",
            "[67]\tvalidation_0-auc:0.741218\n",
            "[68]\tvalidation_0-auc:0.741252\n",
            "[69]\tvalidation_0-auc:0.741265\n",
            "[70]\tvalidation_0-auc:0.741433\n",
            "[71]\tvalidation_0-auc:0.741668\n",
            "[72]\tvalidation_0-auc:0.741801\n",
            "[73]\tvalidation_0-auc:0.741891\n",
            "[74]\tvalidation_0-auc:0.74194\n",
            "[75]\tvalidation_0-auc:0.741952\n",
            "[76]\tvalidation_0-auc:0.741865\n",
            "[77]\tvalidation_0-auc:0.74199\n",
            "[78]\tvalidation_0-auc:0.742167\n",
            "[79]\tvalidation_0-auc:0.742239\n",
            "[80]\tvalidation_0-auc:0.742232\n",
            "[81]\tvalidation_0-auc:0.742318\n",
            "[82]\tvalidation_0-auc:0.742365\n",
            "[83]\tvalidation_0-auc:0.742304\n",
            "[84]\tvalidation_0-auc:0.742368\n",
            "[85]\tvalidation_0-auc:0.742651\n",
            "[86]\tvalidation_0-auc:0.742689\n",
            "[87]\tvalidation_0-auc:0.742816\n",
            "[88]\tvalidation_0-auc:0.742923\n",
            "[89]\tvalidation_0-auc:0.742945\n",
            "[90]\tvalidation_0-auc:0.74303\n",
            "[91]\tvalidation_0-auc:0.743194\n",
            "[92]\tvalidation_0-auc:0.74317\n",
            "[93]\tvalidation_0-auc:0.743109\n",
            "[94]\tvalidation_0-auc:0.743128\n",
            "[95]\tvalidation_0-auc:0.743333\n",
            "[96]\tvalidation_0-auc:0.74338\n",
            "[97]\tvalidation_0-auc:0.743304\n",
            "[98]\tvalidation_0-auc:0.743626\n",
            "[99]\tvalidation_0-auc:0.743777\n",
            "[100]\tvalidation_0-auc:0.743826\n",
            "[101]\tvalidation_0-auc:0.743952\n",
            "[102]\tvalidation_0-auc:0.743988\n",
            "[103]\tvalidation_0-auc:0.744065\n",
            "[104]\tvalidation_0-auc:0.743994\n",
            "[105]\tvalidation_0-auc:0.744054\n",
            "[106]\tvalidation_0-auc:0.744306\n",
            "[107]\tvalidation_0-auc:0.744331\n",
            "[108]\tvalidation_0-auc:0.744425\n",
            "[109]\tvalidation_0-auc:0.744634\n",
            "[110]\tvalidation_0-auc:0.744564\n",
            "[111]\tvalidation_0-auc:0.744798\n",
            "[112]\tvalidation_0-auc:0.744999\n",
            "[113]\tvalidation_0-auc:0.744963\n",
            "[114]\tvalidation_0-auc:0.744996\n",
            "[115]\tvalidation_0-auc:0.745039\n",
            "[116]\tvalidation_0-auc:0.745169\n",
            "[117]\tvalidation_0-auc:0.745187\n",
            "[118]\tvalidation_0-auc:0.745249\n",
            "[119]\tvalidation_0-auc:0.745244\n",
            "[120]\tvalidation_0-auc:0.745174\n",
            "[121]\tvalidation_0-auc:0.745261\n",
            "[122]\tvalidation_0-auc:0.745319\n",
            "[123]\tvalidation_0-auc:0.745336\n",
            "[124]\tvalidation_0-auc:0.745325\n",
            "[125]\tvalidation_0-auc:0.745419\n",
            "[126]\tvalidation_0-auc:0.745486\n",
            "[127]\tvalidation_0-auc:0.745482\n",
            "[128]\tvalidation_0-auc:0.745617\n",
            "[129]\tvalidation_0-auc:0.745619\n",
            "[130]\tvalidation_0-auc:0.745784\n",
            "[131]\tvalidation_0-auc:0.745851\n",
            "[132]\tvalidation_0-auc:0.745852\n",
            "[133]\tvalidation_0-auc:0.745817\n",
            "[134]\tvalidation_0-auc:0.74629\n",
            "[135]\tvalidation_0-auc:0.746304\n",
            "[136]\tvalidation_0-auc:0.746253\n",
            "[137]\tvalidation_0-auc:0.746308\n",
            "[138]\tvalidation_0-auc:0.746452\n",
            "[139]\tvalidation_0-auc:0.746344\n",
            "[140]\tvalidation_0-auc:0.746369\n",
            "[141]\tvalidation_0-auc:0.746476\n",
            "[142]\tvalidation_0-auc:0.746437\n",
            "[143]\tvalidation_0-auc:0.746441\n",
            "[144]\tvalidation_0-auc:0.74647\n",
            "[145]\tvalidation_0-auc:0.746493\n",
            "[146]\tvalidation_0-auc:0.746605\n",
            "[147]\tvalidation_0-auc:0.746601\n",
            "[148]\tvalidation_0-auc:0.746648\n",
            "[149]\tvalidation_0-auc:0.746839\n",
            "[150]\tvalidation_0-auc:0.747016\n",
            "[151]\tvalidation_0-auc:0.747012\n",
            "[152]\tvalidation_0-auc:0.747091\n",
            "[153]\tvalidation_0-auc:0.747147\n",
            "[154]\tvalidation_0-auc:0.747256\n",
            "[155]\tvalidation_0-auc:0.747401\n",
            "[156]\tvalidation_0-auc:0.747528\n",
            "[157]\tvalidation_0-auc:0.747652\n",
            "[158]\tvalidation_0-auc:0.74763\n",
            "[159]\tvalidation_0-auc:0.747609\n",
            "[160]\tvalidation_0-auc:0.74768\n",
            "[161]\tvalidation_0-auc:0.747702\n",
            "[162]\tvalidation_0-auc:0.747743\n",
            "[163]\tvalidation_0-auc:0.747687\n",
            "[164]\tvalidation_0-auc:0.747638\n",
            "[165]\tvalidation_0-auc:0.747511\n",
            "[166]\tvalidation_0-auc:0.747692\n",
            "[167]\tvalidation_0-auc:0.747702\n",
            "[168]\tvalidation_0-auc:0.74752\n",
            "[169]\tvalidation_0-auc:0.747396\n",
            "[170]\tvalidation_0-auc:0.747287\n",
            "[171]\tvalidation_0-auc:0.747209\n",
            "[172]\tvalidation_0-auc:0.747115\n",
            "Stopping. Best iteration:\n",
            "[162]\tvalidation_0-auc:0.747743\n",
            "\n",
            "AUC-ROC: 0.7477426342406638\n"
          ],
          "name": "stdout"
        }
      ]
    },
    {
      "cell_type": "code",
      "metadata": {
        "id": "StM-bC5oeOsD",
        "colab_type": "code",
        "colab": {
          "base_uri": "https://localhost:8080/",
          "height": 34
        },
        "outputId": "1a861234-5581-4a45-828f-8264a393befc"
      },
      "source": [
        "# Обучим еще классификатор для стекинга\n",
        "X = df.copy()\n",
        "y = X.loc[:,'dep_delayed_15min'] = X['dep_delayed_15min'].map({'Y': 1, 'N': 0}).values\n",
        "X = X.drop(columns=['dep_delayed_15min'])\n",
        "X = pd.get_dummies(X)\n",
        "\n",
        "X_train, X_test, y_train, y_test = train_test_split(X, y, test_size=0.3)\n",
        "\n",
        "rf = RandomForestClassifier(max_depth=9, n_estimators=120, min_samples_split=3)\n",
        "rf.fit(X_train, y_train)\n",
        "y_pred = rf.predict_proba(X_test)[:,1]\n",
        "print('AUC-ROC:', roc_auc_score(y_test, y_pred))"
      ],
      "execution_count": 65,
      "outputs": [
        {
          "output_type": "stream",
          "text": [
            "AUC-ROC: 0.7041816587681633\n"
          ],
          "name": "stdout"
        }
      ]
    },
    {
      "cell_type": "code",
      "metadata": {
        "id": "fcNDc-II0FIC",
        "colab_type": "code",
        "colab": {
          "base_uri": "https://localhost:8080/",
          "height": 34
        },
        "outputId": "bfa1fb0b-71bd-4012-a127-e505f328f64e"
      },
      "source": [
        "# Блендинг\n",
        "\n",
        "estimators = [\n",
        "    ('rf', rf),\n",
        "    ('xgb', xgb_best)\n",
        "]\n",
        "clf = StackingClassifier(\n",
        "    estimators=estimators, final_estimator=LogisticRegression()\n",
        ")\n",
        "\n",
        "X_train, X_test, y_train, y_test = train_test_split(\n",
        "    X, y, test_size=0.3\n",
        ")\n",
        "clf.fit(X_train, y_train)\n",
        "y_pred = clf.predict_proba(X_test)[:,1]\n",
        "print('AUC-ROC:', roc_auc_score(y_test, y_pred))"
      ],
      "execution_count": 70,
      "outputs": [
        {
          "output_type": "stream",
          "text": [
            "AUC-ROC: 0.7546289853062497\n"
          ],
          "name": "stdout"
        }
      ]
    },
    {
      "cell_type": "code",
      "metadata": {
        "id": "iR_vLLA82GrG",
        "colab_type": "code",
        "colab": {}
      },
      "source": [
        ""
      ],
      "execution_count": 0,
      "outputs": []
    }
  ]
}